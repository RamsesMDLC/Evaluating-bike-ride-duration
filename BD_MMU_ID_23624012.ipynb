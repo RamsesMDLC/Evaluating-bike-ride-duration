{
  "nbformat": 4,
  "nbformat_minor": 0,
  "metadata": {
    "colab": {
      "provenance": [],
      "collapsed_sections": [
        "Nu_zJqq3mXzG",
        "2WAPqiZ3pK5l",
        "YyBSXb04pXtt",
        "ellwj44tpbxN",
        "3etK7hfG2En3",
        "I0U470Cl3Snm",
        "nbUkUO4p31we",
        "0yZgXn0Uijr_",
        "vwNG5xOsF2zt",
        "AqMVi7I8iwHW",
        "kXVvbeNwVERe",
        "oT35KZypVg_R",
        "PT544J-ck4wh",
        "N5NWNZnK3n_i"
      ]
    },
    "kernelspec": {
      "name": "python3",
      "display_name": "Python 3"
    },
    "language_info": {
      "name": "python"
    }
  },
  "cells": [
    {
      "cell_type": "markdown",
      "source": [
        "# **BIG DATA PROJECT**"
      ],
      "metadata": {
        "id": "TuKEas09mRVF"
      }
    },
    {
      "cell_type": "markdown",
      "source": [
        "# **RAMSES MORENO DE LA CRUZ - MMU ID: 23624012**"
      ],
      "metadata": {
        "id": "FV5g6l7tmVFP"
      }
    },
    {
      "cell_type": "markdown",
      "source": [
        "# **1. SET UP ENVIRONMENT / CONFIGURATIONS**"
      ],
      "metadata": {
        "id": "Nu_zJqq3mXzG"
      }
    },
    {
      "cell_type": "code",
      "source": [
        "#Set-Up spark using shell commands\n",
        "  #Lists the files and directories in the current working directory.\n",
        "!ls\n",
        "  #Removes some files\n",
        "!rm -f spark-3.4.[01]-bin-hadoop3.tgz*\n",
        "!rm -rf spark-3.4.[01]-bin-hadoop3\n",
        "  #Installs the OpenJDK 8 Java Development Kit (JDK)\n",
        "!apt-get install openjdk-8-jdk-headless -qq > /dev/null\n",
        "  #Downloads files from the web.\n",
        "!wget https://downloads.apache.org/spark/spark-3.4.2/spark-3.4.2-bin-hadoop3.tgz\n",
        "  #Extracts file\n",
        "!tar -xf spark-3.4.2-bin-hadoop3.tgz\n",
        "  #Lists the files and directories in the current working directory.\n",
        "!ls -alt"
      ],
      "metadata": {
        "colab": {
          "base_uri": "https://localhost:8080/"
        },
        "id": "zo1XMo4BmZEd",
        "outputId": "6075f7ea-484a-42ff-8fb2-48081c7b798f"
      },
      "execution_count": null,
      "outputs": [
        {
          "output_type": "stream",
          "name": "stdout",
          "text": [
            "sample_data\n",
            "--2024-03-30 12:42:53--  https://downloads.apache.org/spark/spark-3.4.2/spark-3.4.2-bin-hadoop3.tgz\n",
            "Resolving downloads.apache.org (downloads.apache.org)... 135.181.214.104, 88.99.208.237, 2a01:4f9:3a:2c57::2, ...\n",
            "Connecting to downloads.apache.org (downloads.apache.org)|135.181.214.104|:443... connected.\n",
            "HTTP request sent, awaiting response... 200 OK\n",
            "Length: 388664780 (371M) [application/x-gzip]\n",
            "Saving to: ‘spark-3.4.2-bin-hadoop3.tgz’\n",
            "\n",
            "spark-3.4.2-bin-had 100%[===================>] 370.66M  66.2MB/s    in 6.4s    \n",
            "\n",
            "2024-03-30 12:42:59 (58.3 MB/s) - ‘spark-3.4.2-bin-hadoop3.tgz’ saved [388664780/388664780]\n",
            "\n",
            "total 379576\n",
            "drwxr-xr-x  1 root root      4096 Mar 30 12:42 .\n",
            "drwxr-xr-x  1 root root      4096 Mar 30 12:42 ..\n",
            "drwxr-xr-x  1 root root      4096 Mar 28 23:00 sample_data\n",
            "drwxr-xr-x  4 root root      4096 Mar 28 22:59 .config\n",
            "-rw-r--r--  1 root root 388664780 Nov 25 07:49 spark-3.4.2-bin-hadoop3.tgz\n",
            "drwxr-xr-x 13 1000 1000      4096 Nov 25 07:48 spark-3.4.2-bin-hadoop3\n"
          ]
        }
      ]
    },
    {
      "cell_type": "code",
      "source": [
        "#Installs findspark\n",
        "!pip3 install findspark"
      ],
      "metadata": {
        "colab": {
          "base_uri": "https://localhost:8080/"
        },
        "id": "FPeWKuBOm8nM",
        "outputId": "d144d8ca-fbd2-4c9d-e262-3bccdc0dac19"
      },
      "execution_count": null,
      "outputs": [
        {
          "output_type": "stream",
          "name": "stdout",
          "text": [
            "Collecting findspark\n",
            "  Downloading findspark-2.0.1-py2.py3-none-any.whl (4.4 kB)\n",
            "Installing collected packages: findspark\n",
            "Successfully installed findspark-2.0.1\n"
          ]
        }
      ]
    },
    {
      "cell_type": "code",
      "source": [
        "#Imports the Python os module for interacting with the operating system.\n",
        "import os\n",
        "\n",
        "#Sets JAVA and SPARK environmental variables\n",
        "os.environ[\"JAVA_HOME\"] = \"/usr/lib/jvm/java-8-openjdk-amd64\"\n",
        "os.environ[\"SPARK_HOME\"] = \"/content/spark-3.4.2-bin-hadoop3\"\n",
        "\n",
        "#Imports the findspark module\n",
        "import findspark\n",
        "\n",
        "#Initializes the findspark module\n",
        "findspark.init()\n",
        "from pyspark import SparkConf, SparkContext\n",
        "\n",
        "#The next line gives us 'local' mode to running Spark\n",
        "  #'local[2]' to use 2 cores\n",
        "spark_conf = SparkConf().setMaster('local[2]').setAppName('MyApp')\n",
        "\n",
        "#Creates Spark Context\n",
        "sc1 = SparkContext(conf=spark_conf)\n",
        "\n",
        "#Imports functions and classes with the aim to work with Spark SQL.\n",
        "from pyspark.sql import *\n",
        "from pyspark.sql.functions import *\n",
        "\n",
        "#Creates Spark Session\n",
        "  #\"SparkSession\" and \"sc\" are are key handles in to Spark API\n",
        "  #It is helpful to build dataframes\n",
        "spark = SparkSession.builder.appName(\"bikes\").getOrCreate()\n",
        "\n",
        "  #Import libraries/modules for graphs and statistical tests\n",
        "import matplotlib.pyplot as plt\n",
        "import pandas as pd"
      ],
      "metadata": {
        "id": "WNLD_WHgnCEr"
      },
      "execution_count": null,
      "outputs": []
    },
    {
      "cell_type": "markdown",
      "source": [
        "# **2. LOADING THE DATA**"
      ],
      "metadata": {
        "id": "2WAPqiZ3pK5l"
      }
    },
    {
      "cell_type": "code",
      "source": [
        "# get file for given year from TfL open data\n",
        "  #Downloads files from the web.\n",
        "!wget https://cycling.data.tfl.gov.uk/usage-stats/cyclehireusagestats-2014.zip\n",
        "\n",
        "  #Unzip files\n",
        "!unzip cyclehireusagestats-2014.zip"
      ],
      "metadata": {
        "colab": {
          "base_uri": "https://localhost:8080/"
        },
        "id": "_NGVGKhepLy1",
        "outputId": "09f37a1c-a84b-4ca1-f32e-a9a180014589"
      },
      "execution_count": null,
      "outputs": [
        {
          "output_type": "stream",
          "name": "stdout",
          "text": [
            "--2024-03-30 12:43:38--  https://cycling.data.tfl.gov.uk/usage-stats/cyclehireusagestats-2014.zip\n",
            "Resolving cycling.data.tfl.gov.uk (cycling.data.tfl.gov.uk)... 104.16.212.132, 104.16.213.132\n",
            "Connecting to cycling.data.tfl.gov.uk (cycling.data.tfl.gov.uk)|104.16.212.132|:443... connected.\n",
            "HTTP request sent, awaiting response... 200 OK\n",
            "Length: 225215129 (215M) [application/zip]\n",
            "Saving to: ‘cyclehireusagestats-2014.zip’\n",
            "\n",
            "cyclehireusagestats 100%[===================>] 214.78M   109MB/s    in 2.0s    \n",
            "\n",
            "2024-03-30 12:43:40 (109 MB/s) - ‘cyclehireusagestats-2014.zip’ saved [225215129/225215129]\n",
            "\n",
            "Archive:  cyclehireusagestats-2014.zip\n",
            "  inflating: 1. Journey Data Extract 05Jan14-02Feb14.csv  \n",
            "  inflating: 10a. Journey Data Extract 14Sep14-27Sep14.csv  \n",
            "  inflating: 10b. Journey Data Extract 28Sep14-11Oct14.csv  \n",
            "  inflating: 11a. Journey Data Extract 12Oct14-08Nov14.csv  \n",
            "  inflating: 11b. Journey Data Extract 12Oct14-08Nov14.csv  \n",
            "  inflating: 12a. Journey Data Extract 09Nov14-06Dec14.csv  \n",
            "  inflating: 12b. Journey Data Extract 09Nov14-06Dec14.csv  \n",
            "  inflating: 13a. Journey Data Extract 07Dec14-21Dec14.csv  \n",
            "  inflating: 13b. Journey Data Extract 22Dec14-03Jan15.csv  \n",
            "  inflating: 14. Journey Data Extract 08Dec13-04Jan14.csv  \n",
            "  inflating: 2. Journey Data Extract 03Feb14-01Mar14.csv  \n",
            "  inflating: 3. Journey Data Extract 02Mar14-31Mar14.csv  \n",
            "  inflating: 4. Journey Data Extract 01Apr14-26Apr14.csv  \n",
            "  inflating: 5. Journey Data Extract 27Apr14-24May14.csv  \n",
            "  inflating: 6. Journey Data Extract 25May14-21Jun14.csv  \n",
            "  inflating: 7. Journey Data Extract 22Jun14-19Jul14.csv  \n",
            "  inflating: 8a Journey Data Extract 20Jul14-31Jul14.csv  \n",
            "  inflating: 8b Journey Data Extract 01Aug14-16Aug14.csv  \n",
            "  inflating: 9a Journey Data Extract 17Aug14-31Aug14.csv  \n",
            "  inflating: 9b Journey Data Extract 01Sep14-13Sep14.csv  \n"
          ]
        }
      ]
    },
    {
      "cell_type": "markdown",
      "source": [
        "# **3. EXPLORATORY DATA ANALYSIS (EDA)**"
      ],
      "metadata": {
        "id": "YyBSXb04pXtt"
      }
    },
    {
      "cell_type": "markdown",
      "source": [
        "## **3.1. CHECKING THE SPARK DATAFRAMES**\n",
        "\n",
        "\n",
        "* **Goal 1**: Identify dataframes that do not have the same number of columns.\n",
        "* **Goal 2**: Gain a better understanding of the structure, and number of rows of the dataframes.\n",
        "\n",
        "\n"
      ],
      "metadata": {
        "id": "ellwj44tpbxN"
      }
    },
    {
      "cell_type": "code",
      "source": [
        "#Read the file in to a dataframe called \"j1_df\"\n",
        "file1=\"/content/1. Journey Data Extract 05Jan14-02Feb14.csv\"\n",
        "j1_df = (spark.read.format(\"csv\").option(\"header\", \"true\").option(\"inferSchema\", \"true\").load(file1))\n",
        "\n",
        "#Print the first row of the spark dataframe\n",
        "print(\"\\nFirst row of the spark dataframe:\\n\")\n",
        "j1_df.show(1)\n",
        "\n",
        "# Count instances of the spark dataframe\n",
        "j1_df_counts = j1_df.count()\n",
        "print(\"There are \",j1_df_counts,\" rows in this spark dataframe\\n\")\n"
      ],
      "metadata": {
        "colab": {
          "base_uri": "https://localhost:8080/"
        },
        "id": "7AXZB5I2pY2j",
        "outputId": "1b9ca1ff-e8ef-43f4-caee-c81c110e69dc"
      },
      "execution_count": null,
      "outputs": [
        {
          "output_type": "stream",
          "name": "stdout",
          "text": [
            "\n",
            "First row of the spark dataframe:\n",
            "\n",
            "+---------+--------+-------+----------------+-------------+--------------------+----------------+---------------+--------------------+\n",
            "|Rental Id|Duration|Bike Id|        End Date|EndStation Id|     EndStation Name|      Start Date|StartStation Id|   StartStation Name|\n",
            "+---------+--------+-------+----------------+-------------+--------------------+----------------+---------------+--------------------+\n",
            "| 29747123|    1140|    469|05/01/2014 15:54|           55|Finsbury Circus, ...|05/01/2014 15:35|            295|Swan Street, The ...|\n",
            "+---------+--------+-------+----------------+-------------+--------------------+----------------+---------------+--------------------+\n",
            "only showing top 1 row\n",
            "\n",
            "There are  463523  rows in this spark dataframe\n",
            "\n"
          ]
        }
      ]
    },
    {
      "cell_type": "code",
      "source": [
        "#Read the file in to a dataframe called \"j2_df\"\n",
        "file2=\"/content/2. Journey Data Extract 03Feb14-01Mar14.csv\"\n",
        "j2_df = (spark.read.format(\"csv\").option(\"header\", \"true\").option(\"inferSchema\", \"true\").load(file2))\n",
        "\n",
        "#Print the first row of the spark dataframe\n",
        "print(\"First row of the spark dataframe:\\n\")\n",
        "j2_df.show(1)\n",
        "\n",
        "# Count instances of the spark dataframe\n",
        "j2_df_counts = j2_df.count()\n",
        "print(\"There are \",j2_df_counts,\" rows in this spark dataframe\\n\")"
      ],
      "metadata": {
        "colab": {
          "base_uri": "https://localhost:8080/"
        },
        "id": "PaG-qTbNxfGN",
        "outputId": "e874873b-78f7-4357-cd2d-24dbb5c324bb"
      },
      "execution_count": null,
      "outputs": [
        {
          "output_type": "stream",
          "name": "stdout",
          "text": [
            "First row of the spark dataframe:\n",
            "\n",
            "+---------+--------+-------+----------------+-------------+--------------------+----------------+---------------+--------------------+\n",
            "|Rental Id|Duration|Bike Id|        End Date|EndStation Id|     EndStation Name|      Start Date|StartStation Id|   StartStation Name|\n",
            "+---------+--------+-------+----------------+-------------+--------------------+----------------+---------------+--------------------+\n",
            "| 30286260|    1260|  12218|03/02/2014 23:24|          697|Charlotte Terrace...|03/02/2014 23:03|            311|Foley Street, Fit...|\n",
            "+---------+--------+-------+----------------+-------------+--------------------+----------------+---------------+--------------------+\n",
            "only showing top 1 row\n",
            "\n",
            "There are  521161  rows in this spark dataframe\n",
            "\n"
          ]
        }
      ]
    },
    {
      "cell_type": "code",
      "source": [
        "#Read the file in to a dataframe called \"j3_df\"\n",
        "file3=\"/content/3. Journey Data Extract 02Mar14-31Mar14.csv\"\n",
        "j3_df = (spark.read.format(\"csv\").option(\"header\", \"true\").option(\"inferSchema\", \"true\").load(file3))\n",
        "\n",
        "#Print the first row of the spark dataframe\n",
        "print(\"First row of the spark dataframe:\\n\")\n",
        "j3_df.show(1)\n",
        "\n",
        "# Count instances of the spark dataframe\n",
        "j3_df_counts = j3_df.count()\n",
        "print(\"There are \",j3_df_counts,\" rows in this spark dataframe\\n\")"
      ],
      "metadata": {
        "colab": {
          "base_uri": "https://localhost:8080/"
        },
        "id": "qRbk0jLpxh9E",
        "outputId": "de5b3c87-45c1-4497-8c4b-a11695d87406"
      },
      "execution_count": null,
      "outputs": [
        {
          "output_type": "stream",
          "name": "stdout",
          "text": [
            "First row of the spark dataframe:\n",
            "\n",
            "+---------+--------+-------+----------------+-------------+--------------------+----------------+---------------+--------------------+\n",
            "|Rental Id|Duration|Bike Id|        End Date|EndStation Id|     EndStation Name|      Start Date|StartStation Id|   StartStation Name|\n",
            "+---------+--------+-------+----------------+-------------+--------------------+----------------+---------------+--------------------+\n",
            "| 30845679|    1380|   6523|03/03/2014 23:27|          695|Islington Green, ...|03/03/2014 23:04|            311|Foley Street, Fit...|\n",
            "+---------+--------+-------+----------------+-------------+--------------------+----------------+---------------+--------------------+\n",
            "only showing top 1 row\n",
            "\n",
            "There are  729984  rows in this spark dataframe\n",
            "\n"
          ]
        }
      ]
    },
    {
      "cell_type": "code",
      "source": [
        "#Read the file in to a dataframe called \"j4_df\"\n",
        "file4=\"/content/4. Journey Data Extract 01Apr14-26Apr14.csv\"\n",
        "j4_df = (spark.read.format(\"csv\").option(\"header\", \"true\").option(\"inferSchema\", \"true\").load(file4))\n",
        "\n",
        "#Print the first row of the spark dataframe\n",
        "print(\"First row of the spark dataframe:\\n\")\n",
        "j4_df.show(1)\n",
        "\n",
        "# Count instances of the spark dataframe\n",
        "j4_df_counts = j4_df.count()\n",
        "print(\"There are \",j4_df_counts,\" rows in this spark dataframe\\n\")"
      ],
      "metadata": {
        "colab": {
          "base_uri": "https://localhost:8080/"
        },
        "id": "_2BQ0dw-xh5t",
        "outputId": "b0507247-678d-4bd3-c449-575ccb5439e4"
      },
      "execution_count": null,
      "outputs": [
        {
          "output_type": "stream",
          "name": "stdout",
          "text": [
            "First row of the spark dataframe:\n",
            "\n",
            "+---------+--------+-------+----------------+-------------+--------------------+----------------+---------------+--------------------+----+----+----+\n",
            "|Rental Id|Duration|Bike Id|        End Date|EndStation Id|     EndStation Name|      Start Date|StartStation Id|   StartStation Name| _c9|_c10|_c11|\n",
            "+---------+--------+-------+----------------+-------------+--------------------+----------------+---------------+--------------------+----+----+----+\n",
            "| 31598682|     540|    982|01/04/2014 00:09|          544|Percival Street, ...|01/04/2014 00:00|            217|Wormwood Street, ...|null|null|null|\n",
            "+---------+--------+-------+----------------+-------------+--------------------+----------------+---------------+--------------------+----+----+----+\n",
            "only showing top 1 row\n",
            "\n",
            "There are  651974  rows in this spark dataframe\n",
            "\n"
          ]
        }
      ]
    },
    {
      "cell_type": "code",
      "source": [
        "#Read the file in to a dataframe called \"j5_df\"\n",
        "file5=\"/content/5. Journey Data Extract 27Apr14-24May14.csv\"\n",
        "j5_df = (spark.read.format(\"csv\").option(\"header\", \"true\").option(\"inferSchema\", \"true\").load(file5))\n",
        "\n",
        "#Print the first rows of the spark dataframe\n",
        "print(\"First rows of the spark dataframe:\\n\")\n",
        "j5_df.show(1)\n",
        "\n",
        "# Count instances of the spark dataframe\n",
        "j5_df_counts = j5_df.count()\n",
        "print(\"There are \",j5_df_counts,\" rows in this spark dataframe\\n\")"
      ],
      "metadata": {
        "colab": {
          "base_uri": "https://localhost:8080/"
        },
        "id": "IWPlMSfzxh18",
        "outputId": "64036823-d81f-41ba-97a1-a1adba29e2e5"
      },
      "execution_count": null,
      "outputs": [
        {
          "output_type": "stream",
          "name": "stdout",
          "text": [
            "First rows of the spark dataframe:\n",
            "\n",
            "+---------+--------+-------+----------------+-------------+--------------------+----------------+---------------+--------------------+\n",
            "|Rental Id|Duration|Bike Id|        End Date|EndStation Id|     EndStation Name|      Start Date|StartStation Id|   StartStation Name|\n",
            "+---------+--------+-------+----------------+-------------+--------------------+----------------+---------------+--------------------+\n",
            "| 32685876|    1200|   6271|08/05/2014 23:33|          697|Charlotte Terrace...|08/05/2014 23:13|            242|Beaumont Street, ...|\n",
            "+---------+--------+-------+----------------+-------------+--------------------+----------------+---------------+--------------------+\n",
            "only showing top 1 row\n",
            "\n",
            "There are  849196  rows in this spark dataframe\n",
            "\n"
          ]
        }
      ]
    },
    {
      "cell_type": "code",
      "source": [
        "#Read the file in to a dataframe called \"j6_df\"\n",
        "file6=\"/content/6. Journey Data Extract 25May14-21Jun14.csv\"\n",
        "j6_df = (spark.read.format(\"csv\").option(\"header\", \"true\").option(\"inferSchema\", \"true\").load(file6))\n",
        "\n",
        "#Print the first rows of the spark dataframe\n",
        "print(\"First rows of the spark dataframe:\\n\")\n",
        "j6_df.show(1)\n",
        "\n",
        "# Count instances of the spark dataframe\n",
        "j6_df_counts = j6_df.count()\n",
        "print(\"There are \",j6_df_counts,\" rows in this spark dataframe\\n\")"
      ],
      "metadata": {
        "colab": {
          "base_uri": "https://localhost:8080/"
        },
        "id": "ftl8_l0GxhyU",
        "outputId": "a2859918-3fa3-4c49-af94-f20562abf787"
      },
      "execution_count": null,
      "outputs": [
        {
          "output_type": "stream",
          "name": "stdout",
          "text": [
            "First rows of the spark dataframe:\n",
            "\n",
            "+---------+--------+-------+----------------+-------------+--------------------+----------------+---------------+--------------------+----+----+----+\n",
            "|Rental Id|Duration|Bike Id|        End Date|EndStation Id|     EndStation Name|      Start Date|StartStation Id|   StartStation Name| _c9|_c10|_c11|\n",
            "+---------+--------+-------+----------------+-------------+--------------------+----------------+---------------+--------------------+----+----+----+\n",
            "| 33253206|    1140|  11439|27/05/2014 00:59|          695|Islington Green, ...|27/05/2014 00:40|             81|Great Titchfield ...|null|null|null|\n",
            "+---------+--------+-------+----------------+-------------+--------------------+----------------+---------------+--------------------+----+----+----+\n",
            "only showing top 1 row\n",
            "\n",
            "There are  914892  rows in this spark dataframe\n",
            "\n"
          ]
        }
      ]
    },
    {
      "cell_type": "code",
      "source": [
        "#Read the file in to a dataframe called \"j7_df\"\n",
        "file7=\"/content/7. Journey Data Extract 22Jun14-19Jul14.csv\"\n",
        "j7_df = (spark.read.format(\"csv\").option(\"header\", \"true\").option(\"inferSchema\", \"true\").load(file7))\n",
        "\n",
        "#Print the first rows of the spark dataframe\n",
        "print(\"First rows of the spark dataframe:\\n\")\n",
        "j7_df.show(1)\n",
        "\n",
        "# Count instances of the spark dataframe\n",
        "j7_df_counts = j7_df.count()\n",
        "print(\"There are \",j7_df_counts,\" rows in this spark dataframe\\n\")"
      ],
      "metadata": {
        "colab": {
          "base_uri": "https://localhost:8080/"
        },
        "id": "zkYZZpI7xhvO",
        "outputId": "462bdf53-f947-4dca-d01a-44988064a33c"
      },
      "execution_count": null,
      "outputs": [
        {
          "output_type": "stream",
          "name": "stdout",
          "text": [
            "First rows of the spark dataframe:\n",
            "\n",
            "+---------+--------+-------+----------------+-------------+--------------------+----------------+---------------+--------------------+\n",
            "|Rental Id|Duration|Bike Id|        End Date|EndStation Id|     EndStation Name|      Start Date|StartStation Id|   StartStation Name|\n",
            "+---------+--------+-------+----------------+-------------+--------------------+----------------+---------------+--------------------+\n",
            "| 34263367|    1080|   9076|24/06/2014 00:57|          695|Islington Green, ...|24/06/2014 00:39|            311|Foley Street, Fit...|\n",
            "+---------+--------+-------+----------------+-------------+--------------------+----------------+---------------+--------------------+\n",
            "only showing top 1 row\n",
            "\n",
            "There are  996095  rows in this spark dataframe\n",
            "\n"
          ]
        }
      ]
    },
    {
      "cell_type": "code",
      "source": [
        "#Read the file in to a dataframe called \"j8a_df\"\n",
        "file8a=\"/content/8a Journey Data Extract 20Jul14-31Jul14.csv\"\n",
        "j8a_df = (spark.read.format(\"csv\").option(\"header\", \"true\").option(\"inferSchema\", \"true\").load(file8a))\n",
        "\n",
        "# Print the first rows of the spark dataframe\n",
        "print(\"First rows of the spark dataframe:\\n\")\n",
        "j8a_df.show(1)\n",
        "\n",
        "# Count instances of the spark dataframe\n",
        "j8a_df_counts = j8a_df.count()\n",
        "print(\"There are \",j8a_df_counts,\" rows in this spark dataframe\\n\")"
      ],
      "metadata": {
        "colab": {
          "base_uri": "https://localhost:8080/"
        },
        "id": "vZlTscc1xhr0",
        "outputId": "90492a7a-e109-4c07-e3e1-3e2404e7c72d"
      },
      "execution_count": null,
      "outputs": [
        {
          "output_type": "stream",
          "name": "stdout",
          "text": [
            "First rows of the spark dataframe:\n",
            "\n",
            "+---------+--------+-------+----------------+-------------+--------------------+----------------+---------------+--------------------+\n",
            "|Rental Id|Duration|Bike Id|        End Date|EndStation Id|     EndStation Name|      Start Date|StartStation Id|   StartStation Name|\n",
            "+---------+--------+-------+----------------+-------------+--------------------+----------------+---------------+--------------------+\n",
            "| 35667421|     180|   2665|30/07/2014 07:01|            6|Broadcasting Hous...|30/07/2014 06:58|             28|Bolsover Street, ...|\n",
            "+---------+--------+-------+----------------+-------------+--------------------+----------------+---------------+--------------------+\n",
            "only showing top 1 row\n",
            "\n",
            "There are  473850  rows in this spark dataframe\n",
            "\n"
          ]
        }
      ]
    },
    {
      "cell_type": "code",
      "source": [
        "#Read the file in to a dataframe called \"j8b_df\"\n",
        "file8b=\"/content/8b Journey Data Extract 01Aug14-16Aug14.csv\"\n",
        "j8b_df = (spark.read.format(\"csv\").option(\"header\", \"true\").option(\"inferSchema\", \"true\").load(file8b))\n",
        "\n",
        "# Print the first rows of the spark dataframe\n",
        "print(\"First rows of the spark dataframe:\\n\")\n",
        "j8b_df.show(1)\n",
        "\n",
        "# Count instances of the spark dataframe\n",
        "j8b_df_counts = j8b_df.count()\n",
        "print(\"There are \",j8b_df_counts,\" rows in this spark dataframe\\n\")"
      ],
      "metadata": {
        "colab": {
          "base_uri": "https://localhost:8080/"
        },
        "id": "kNmrdbN6xhn9",
        "outputId": "1e246aae-57de-4d7b-8e98-7878002bd5ab"
      },
      "execution_count": null,
      "outputs": [
        {
          "output_type": "stream",
          "name": "stdout",
          "text": [
            "First rows of the spark dataframe:\n",
            "\n",
            "+---------+--------+-------+----------------+-------------+--------------------+----------------+---------------+--------------------+\n",
            "|Rental Id|Duration|Bike Id|        End Date|EndStation Id|     EndStation Name|      Start Date|StartStation Id|   StartStation Name|\n",
            "+---------+--------+-------+----------------+-------------+--------------------+----------------+---------------+--------------------+\n",
            "| 35815795|    1860|    939|02/08/2014 15:39|          695|Islington Green, ...|02/08/2014 15:08|              6|Broadcasting Hous...|\n",
            "+---------+--------+-------+----------------+-------------+--------------------+----------------+---------------+--------------------+\n",
            "only showing top 1 row\n",
            "\n",
            "There are  584618  rows in this spark dataframe\n",
            "\n"
          ]
        }
      ]
    },
    {
      "cell_type": "code",
      "source": [
        "#Read the file in to a dataframe called \"j9a_df\"\n",
        "file9a=\"/content/9a Journey Data Extract 17Aug14-31Aug14.csv\"\n",
        "j9a_df = (spark.read.format(\"csv\").option(\"header\", \"true\").option(\"inferSchema\", \"true\").load(file9a))\n",
        "\n",
        "# Print the first rows of the spark dataframe\n",
        "print(\"First rows of the spark dataframe:\\n\")\n",
        "j9a_df.show(1)\n",
        "\n",
        "# Count instances of the spark dataframe\n",
        "j9a_df_counts = j9a_df.count()\n",
        "print(\"There are \",j9a_df_counts,\" rows in this spark dataframe\\n\")"
      ],
      "metadata": {
        "colab": {
          "base_uri": "https://localhost:8080/"
        },
        "id": "-TKRRogdxhj_",
        "outputId": "6c699f5d-a67f-4f71-fe0a-1834ad57453a"
      },
      "execution_count": null,
      "outputs": [
        {
          "output_type": "stream",
          "name": "stdout",
          "text": [
            "First rows of the spark dataframe:\n",
            "\n",
            "+---------+--------+-------+----------------+-------------+--------------------+----------------+---------------+--------------------+\n",
            "|Rental Id|Duration|Bike Id|        End Date|EndStation Id|     EndStation Name|      Start Date|StartStation Id|   StartStation Name|\n",
            "+---------+--------+-------+----------------+-------------+--------------------+----------------+---------------+--------------------+\n",
            "| 36389367|     300|   4107|17/08/2014 00:05|          206|New Road 1 , Whit...|17/08/2014 00:00|            444|Bethnal Green Gar...|\n",
            "+---------+--------+-------+----------------+-------------+--------------------+----------------+---------------+--------------------+\n",
            "only showing top 1 row\n",
            "\n",
            "There are  902300  rows in this spark dataframe\n",
            "\n"
          ]
        }
      ]
    },
    {
      "cell_type": "code",
      "source": [
        "#Read the file in to a dataframe called \"j9b_df\"\n",
        "file9b=\"/content/9b Journey Data Extract 01Sep14-13Sep14.csv\"\n",
        "j9b_df = (spark.read.format(\"csv\").option(\"header\", \"true\").option(\"inferSchema\", \"true\").load(file9b))\n",
        "\n",
        "# Print the first rows of the spark dataframe\n",
        "print(\"First rows of the spark dataframe:\\n\")\n",
        "j9b_df.show(1)\n",
        "\n",
        "# Count instances of the spark dataframe\n",
        "j9b_df_counts = j9b_df.count()\n",
        "print(\"There are \",j9b_df_counts,\" rows in this spark dataframe\\n\")"
      ],
      "metadata": {
        "colab": {
          "base_uri": "https://localhost:8080/"
        },
        "id": "B0zlAsFrxhfH",
        "outputId": "d1e3ccbf-029b-4a41-d8ad-e0d9620d0fa4"
      },
      "execution_count": null,
      "outputs": [
        {
          "output_type": "stream",
          "name": "stdout",
          "text": [
            "First rows of the spark dataframe:\n",
            "\n",
            "+---------+--------+-------+----------------+-------------+--------------------+----------------+---------------+--------------------+\n",
            "|Rental Id|Duration|Bike Id|        End Date|EndStation Id|     EndStation Name|      Start Date|StartStation Id|   StartStation Name|\n",
            "+---------+--------+-------+----------------+-------------+--------------------+----------------+---------------+--------------------+\n",
            "| 36873128|     180|   6167|01/09/2014 00:03|          371|King Edward Walk,...|01/09/2014 00:00|            645|Great Suffolk Str...|\n",
            "+---------+--------+-------+----------------+-------------+--------------------+----------------+---------------+--------------------+\n",
            "only showing top 1 row\n",
            "\n",
            "There are  452136  rows in this spark dataframe\n",
            "\n"
          ]
        }
      ]
    },
    {
      "cell_type": "code",
      "source": [
        "#Read the file in to a dataframe called \"j10a_df\"\n",
        "file10a=\"/content/10a. Journey Data Extract 14Sep14-27Sep14.csv\"\n",
        "j10a_df = (spark.read.format(\"csv\").option(\"header\", \"true\").option(\"inferSchema\", \"true\").load(file10a))\n",
        "\n",
        "# Print the first rows of the spark dataframe\n",
        "print(\"First rows of the spark dataframe:\\n\")\n",
        "j10a_df.show(1)\n",
        "\n",
        "# Count instances of the spark dataframe\n",
        "j10a_df_counts = j10a_df.count()\n",
        "print(\"There are \",j10a_df_counts,\" rows in this spark dataframe\\n\")"
      ],
      "metadata": {
        "colab": {
          "base_uri": "https://localhost:8080/"
        },
        "id": "nDp3RJf1xhZ-",
        "outputId": "79d47880-0d49-415f-809f-9d01d9354756"
      },
      "execution_count": null,
      "outputs": [
        {
          "output_type": "stream",
          "name": "stdout",
          "text": [
            "First rows of the spark dataframe:\n",
            "\n",
            "+---------+--------+-------+----------------+-------------+--------------------+----------------+---------------+-----------------+\n",
            "|Rental Id|Duration|Bike Id|        End Date|EndStation Id|     EndStation Name|      Start Date|StartStation Id|StartStation Name|\n",
            "+---------+--------+-------+----------------+-------------+--------------------+----------------+---------------+-----------------+\n",
            "| 37355204|    1260|    101|14/09/2014 00:21|          533|Wellington Row, B...|14/09/2014 00:00|            496| Devons Road, Bow|\n",
            "+---------+--------+-------+----------------+-------------+--------------------+----------------+---------------+-----------------+\n",
            "only showing top 1 row\n",
            "\n",
            "There are  488627  rows in this spark dataframe\n",
            "\n"
          ]
        }
      ]
    },
    {
      "cell_type": "code",
      "source": [
        "#Read the file in to a dataframe called \"j10b_df\"\n",
        "file10b=\"/content/10b. Journey Data Extract 28Sep14-11Oct14.csv\"\n",
        "j10b_df = (spark.read.format(\"csv\").option(\"header\", \"true\").option(\"inferSchema\", \"true\").load(file10b))\n",
        "\n",
        "# Print the first rows of the spark dataframe\n",
        "print(\"First rows of the spark dataframe:\\n\")\n",
        "j10b_df.show(1)\n",
        "\n",
        "# Count instances of the spark dataframe\n",
        "j10b_df_counts = j10b_df.count()\n",
        "print(\"There are \",j10b_df_counts,\" rows in this spark dataframe\\n\")"
      ],
      "metadata": {
        "colab": {
          "base_uri": "https://localhost:8080/"
        },
        "id": "Gd1HAjRUxhS0",
        "outputId": "24cb5339-9140-4971-8b12-021d2d42e4c5"
      },
      "execution_count": null,
      "outputs": [
        {
          "output_type": "stream",
          "name": "stdout",
          "text": [
            "First rows of the spark dataframe:\n",
            "\n",
            "+---------+--------+-------+----------------+-------------+--------------------+----------------+---------------+--------------------+----+----+----+\n",
            "|Rental Id|Duration|Bike Id|        End Date|EndStation Id|     EndStation Name|      Start Date|StartStation Id|   StartStation Name| _c9|_c10|_c11|\n",
            "+---------+--------+-------+----------------+-------------+--------------------+----------------+---------------+--------------------+----+----+----+\n",
            "| 37875851|     120|   3229|28/09/2014 00:02|          450|Jubilee Street, S...|28/09/2014 00:00|            443|Philpot Street, W...|null|null|null|\n",
            "+---------+--------+-------+----------------+-------------+--------------------+----------------+---------------+--------------------+----+----+----+\n",
            "only showing top 1 row\n",
            "\n",
            "There are  919009  rows in this spark dataframe\n",
            "\n"
          ]
        }
      ]
    },
    {
      "cell_type": "code",
      "source": [
        "#Read the file in to a dataframe called \"j11a_df\"\n",
        "file11a=\"/content/11a. Journey Data Extract 12Oct14-08Nov14.csv\"\n",
        "j11a_df = (spark.read.format(\"csv\").option(\"header\", \"true\").option(\"inferSchema\", \"true\").load(file11a))\n",
        "\n",
        "# Print the first rows of the spark dataframe\n",
        "print(\"First rows of the spark dataframe:\\n\")\n",
        "j11a_df.show(1)\n",
        "\n",
        "# Count instances of the spark dataframe\n",
        "j11a_df_counts = j11a_df.count()\n",
        "print(\"There are \",j11a_df_counts,\" rows in this spark dataframe\\n\")"
      ],
      "metadata": {
        "colab": {
          "base_uri": "https://localhost:8080/"
        },
        "id": "TnX-4V2KxhMs",
        "outputId": "a8687f67-1498-4038-ad0c-3e08229b9e68"
      },
      "execution_count": null,
      "outputs": [
        {
          "output_type": "stream",
          "name": "stdout",
          "text": [
            "First rows of the spark dataframe:\n",
            "\n",
            "+---------+--------+-------+----------------+-------------+--------------------+----------------+---------------+--------------------+\n",
            "|Rental Id|Duration|Bike Id|        End Date|EndStation Id|     EndStation Name|      Start Date|StartStation Id|   StartStation Name|\n",
            "+---------+--------+-------+----------------+-------------+--------------------+----------------+---------------+--------------------+\n",
            "| 39033160|     120|   9725|04/11/2014 13:31|           93|Cloudesley Road, ...|04/11/2014 13:29|            339|Risinghill Street...|\n",
            "+---------+--------+-------+----------------+-------------+--------------------+----------------+---------------+--------------------+\n",
            "only showing top 1 row\n",
            "\n",
            "There are  399999  rows in this spark dataframe\n",
            "\n"
          ]
        }
      ]
    },
    {
      "cell_type": "code",
      "source": [
        "#Read the file in to a dataframe called \"j11b_df\"\n",
        "file11b=\"/content/11b. Journey Data Extract 12Oct14-08Nov14.csv\"\n",
        "j11b_df = (spark.read.format(\"csv\").option(\"header\", \"true\").option(\"inferSchema\", \"true\").load(file11b))\n",
        "\n",
        "# Print the first rows of the spark dataframe\n",
        "print(\"First rows of the spark dataframe:\\n\")\n",
        "j11b_df.show(1)\n",
        "\n",
        "# Count instances of the spark dataframe\n",
        "j11b_df_counts = j11b_df.count()\n",
        "print(\"There are \",j11b_df_counts,\" rows in this spark dataframe\\n\")"
      ],
      "metadata": {
        "colab": {
          "base_uri": "https://localhost:8080/"
        },
        "id": "EpEOLtVyxhFF",
        "outputId": "ae24037a-5078-43a4-f04c-3d305145422d"
      },
      "execution_count": null,
      "outputs": [
        {
          "output_type": "stream",
          "name": "stdout",
          "text": [
            "First rows of the spark dataframe:\n",
            "\n",
            "+---------+--------+-------+----------------+-------------+--------------------+----------------+---------------+--------------------+\n",
            "|Rental Id|Duration|Bike Id|        End Date|EndStation Id|     EndStation Name|      Start Date|StartStation Id|   StartStation Name|\n",
            "+---------+--------+-------+----------------+-------------+--------------------+----------------+---------------+--------------------+\n",
            "| 38413165|     900|   6692|15/10/2014 10:25|          168|Argyll Road, Kens...|15/10/2014 10:10|            218|St. Luke's Church...|\n",
            "+---------+--------+-------+----------------+-------------+--------------------+----------------+---------------+--------------------+\n",
            "only showing top 1 row\n",
            "\n",
            "There are  363005  rows in this spark dataframe\n",
            "\n"
          ]
        }
      ]
    },
    {
      "cell_type": "code",
      "source": [
        "#Read the file in to a dataframe called \"j12a_df\"\n",
        "file12a=\"/content/12a. Journey Data Extract 09Nov14-06Dec14.csv\"\n",
        "j12a_df = (spark.read.format(\"csv\").option(\"header\", \"true\").option(\"inferSchema\", \"true\").load(file12a))\n",
        "\n",
        "# Print the first rows of the spark dataframe\n",
        "print(\"First rows of the spark dataframe:\\n\")\n",
        "j12a_df.show(1)\n",
        "\n",
        "# Count instances of the spark dataframe\n",
        "j12a_df_counts = j12a_df.count()\n",
        "print(\"There are \",j12a_df_counts,\" rows in this spark dataframe\\n\")"
      ],
      "metadata": {
        "colab": {
          "base_uri": "https://localhost:8080/"
        },
        "id": "5RL8-ggBxg6M",
        "outputId": "a18cb8dc-c44f-48b1-8194-6d5406b38ea8"
      },
      "execution_count": null,
      "outputs": [
        {
          "output_type": "stream",
          "name": "stdout",
          "text": [
            "First rows of the spark dataframe:\n",
            "\n",
            "+---------+--------+-------+----------------+-------------+-----------------+----------------+---------------+--------------------+\n",
            "|Rental Id|Duration|Bike Id|        End Date|EndStation Id|  EndStation Name|      Start Date|StartStation Id|   StartStation Name|\n",
            "+---------+--------+-------+----------------+-------------+-----------------+----------------+---------------+--------------------+\n",
            "| 39149324|     120|   3936|09/11/2014 00:02|          470|Mostyn Grove, Bow|09/11/2014 00:00|            498|Bow Road Station,...|\n",
            "+---------+--------+-------+----------------+-------------+-----------------+----------------+---------------+--------------------+\n",
            "only showing top 1 row\n",
            "\n",
            "There are  339479  rows in this spark dataframe\n",
            "\n"
          ]
        }
      ]
    },
    {
      "cell_type": "code",
      "source": [
        "#Read the file in to a dataframe called \"j12b_df\"\n",
        "file12b=\"/content/12b. Journey Data Extract 09Nov14-06Dec14.csv\"\n",
        "j12b_df = (spark.read.format(\"csv\").option(\"header\", \"true\").option(\"inferSchema\", \"true\").load(file12b))\n",
        "\n",
        "# Print the first rows of the spark dataframe\n",
        "print(\"First rows of the spark dataframe:\\n\")\n",
        "j12b_df.show(1)\n",
        "\n",
        "# Count instances of the spark dataframe\n",
        "j12b_df_counts = j12b_df.count()\n",
        "print(\"There are \",j12b_df_counts,\" rows in this spark dataframe\\n\")"
      ],
      "metadata": {
        "colab": {
          "base_uri": "https://localhost:8080/"
        },
        "id": "Ju5G9XlrxgM8",
        "outputId": "26919e18-6abc-4340-8c8f-a491cf4b0d31"
      },
      "execution_count": null,
      "outputs": [
        {
          "output_type": "stream",
          "name": "stdout",
          "text": [
            "First rows of the spark dataframe:\n",
            "\n",
            "+---------+--------+-------+----------------+-------------+--------------------+----------------+---------------+--------------------+\n",
            "|Rental Id|Duration|Bike Id|        End Date|EndStation Id|     EndStation Name|      Start Date|StartStation Id|   StartStation Name|\n",
            "+---------+--------+-------+----------------+-------------+--------------------+----------------+---------------+--------------------+\n",
            "| 39512728|     420|  10235|23/11/2014 00:07|          633|Vereker Road, Wes...|23/11/2014 00:00|            727|Chesilton Road, F...|\n",
            "+---------+--------+-------+----------------+-------------+--------------------+----------------+---------------+--------------------+\n",
            "only showing top 1 row\n",
            "\n",
            "There are  305659  rows in this spark dataframe\n",
            "\n"
          ]
        }
      ]
    },
    {
      "cell_type": "code",
      "source": [
        "#Read the file in to a dataframe called \"j13a_df\"\n",
        "file13a=\"/content/13a. Journey Data Extract 07Dec14-21Dec14.csv\"\n",
        "j13a_df = (spark.read.format(\"csv\").option(\"header\", \"true\").option(\"inferSchema\", \"true\").load(file13a))\n",
        "\n",
        "# Print the first rows of the spark dataframe\n",
        "print(\"First rows of the spark dataframe:\\n\")\n",
        "j13a_df.show(1)\n",
        "\n",
        "# Count instances of the spark dataframe\n",
        "j13a_df_counts = j13a_df.count()\n",
        "print(\"There are \",j13a_df_counts,\" rows in this spark dataframe\\n\")"
      ],
      "metadata": {
        "colab": {
          "base_uri": "https://localhost:8080/"
        },
        "id": "vCy0ESfQycca",
        "outputId": "89b4efc6-b175-4c4f-9bd0-8861a997225e"
      },
      "execution_count": null,
      "outputs": [
        {
          "output_type": "stream",
          "name": "stdout",
          "text": [
            "First rows of the spark dataframe:\n",
            "\n",
            "+---------+--------+-------+----------------+-------------+--------------------+----------------+---------------+--------------------+\n",
            "|Rental Id|Duration|Bike Id|        End Date|EndStation Id|     EndStation Name|      Start Date|StartStation Id|   StartStation Name|\n",
            "+---------+--------+-------+----------------+-------------+--------------------+----------------+---------------+--------------------+\n",
            "| 39838892|     540|   8382|07/12/2014 00:09|          450|Jubilee Street, S...|07/12/2014 00:00|            460|Burdett Road, Mil...|\n",
            "+---------+--------+-------+----------------+-------------+--------------------+----------------+---------------+--------------------+\n",
            "only showing top 1 row\n",
            "\n",
            "There are  298350  rows in this spark dataframe\n",
            "\n"
          ]
        }
      ]
    },
    {
      "cell_type": "code",
      "source": [
        "#Read the file in to a dataframe called \"j13b_df\"\n",
        "file13b=\"/content/13b. Journey Data Extract 22Dec14-03Jan15.csv\"\n",
        "j13b_df = (spark.read.format(\"csv\").option(\"header\", \"true\").option(\"inferSchema\", \"true\").load(file13b))\n",
        "\n",
        "# Print the first rows of the spark dataframe\n",
        "print(\"First rows of the spark dataframe:\\n\")\n",
        "j13b_df.show(1)\n",
        "\n",
        "# Count instances of the spark dataframe\n",
        "j13b_df_counts = j13b_df.count()\n",
        "print(\"There are \",j13b_df_counts,\" rows in this spark dataframe\\n\")"
      ],
      "metadata": {
        "colab": {
          "base_uri": "https://localhost:8080/"
        },
        "id": "0s2tzDhIycKd",
        "outputId": "ad0fb4e1-be17-4f88-b430-8591bfbe77b4"
      },
      "execution_count": null,
      "outputs": [
        {
          "output_type": "stream",
          "name": "stdout",
          "text": [
            "First rows of the spark dataframe:\n",
            "\n",
            "+---------+--------+-------+----------------+-------------+--------------------+----------------+---------------+--------------------+----+----+----+\n",
            "|Rental Id|Duration|Bike Id|        End Date|EndStation Id|     EndStation Name|      Start Date|StartStation Id|   StartStation Name| _c9|_c10|_c11|\n",
            "+---------+--------+-------+----------------+-------------+--------------------+----------------+---------------+--------------------+----+----+----+\n",
            "| 40154802|     120|  12760|22/12/2014 00:03|          450|Jubilee Street, S...|22/12/2014 00:01|            443|Philpot Street, W...|null|null|null|\n",
            "+---------+--------+-------+----------------+-------------+--------------------+----------------+---------------+--------------------+----+----+----+\n",
            "only showing top 1 row\n",
            "\n",
            "There are  472735  rows in this spark dataframe\n",
            "\n"
          ]
        }
      ]
    },
    {
      "cell_type": "code",
      "source": [
        "#Read the file in to a dataframe called \"j14_df\"\n",
        "file14=\"/content/14. Journey Data Extract 08Dec13-04Jan14.csv\"\n",
        "j14_df = (spark.read.format(\"csv\").option(\"header\", \"true\").option(\"inferSchema\", \"true\").load(file14))\n",
        "\n",
        "# Print the first rows of the spark dataframe\n",
        "print(\"First rows of the spark dataframe:\\n\")\n",
        "j14_df.show(1)\n",
        "\n",
        "# Count instances of the spark dataframe\n",
        "j14_df_counts = j14_df.count()\n",
        "print(\"There are \",j14_df_counts,\" rows in this spark dataframe\\n\")"
      ],
      "metadata": {
        "colab": {
          "base_uri": "https://localhost:8080/"
        },
        "id": "LwDFIeBLyb6M",
        "outputId": "e5ee0c54-19eb-432d-8272-cca13172503e"
      },
      "execution_count": null,
      "outputs": [
        {
          "output_type": "stream",
          "name": "stdout",
          "text": [
            "First rows of the spark dataframe:\n",
            "\n",
            "+---------+--------+-------+----------------+-------------+--------------------+----------------+---------------+--------------------+\n",
            "|Rental Id|Duration|Bike Id|        End Date|EndStation Id|     EndStation Name|      Start Date|StartStation Id|   StartStation Name|\n",
            "+---------+--------+-------+----------------+-------------+--------------------+----------------+---------------+--------------------+\n",
            "| 29440493|    1380|   1056|12/12/2013 23:38|          695|Islington Green, ...|12/12/2013 23:15|            311|Foley Street, Fit...|\n",
            "+---------+--------+-------+----------------+-------------+--------------------+----------------+---------------+--------------------+\n",
            "only showing top 1 row\n",
            "\n",
            "There are  355004  rows in this spark dataframe\n",
            "\n"
          ]
        }
      ]
    },
    {
      "cell_type": "code",
      "source": [
        "# Count instances of the spark dataframe\n",
        "allcounts = (j1_df_counts\n",
        "             + j2_df_counts\n",
        "             + j3_df_counts\n",
        "             + j4_df_counts\n",
        "             + j5_df_counts\n",
        "             + j6_df_counts\n",
        "             + j7_df_counts\n",
        "             + j8a_df_counts\n",
        "             + j8b_df_counts\n",
        "             + j9a_df_counts\n",
        "             + j9b_df_counts\n",
        "             + j10a_df_counts\n",
        "             + j10b_df_counts\n",
        "             + j11a_df_counts\n",
        "             + j11b_df_counts\n",
        "             + j12a_df_counts\n",
        "             + j12b_df_counts\n",
        "             + j13a_df_counts\n",
        "             + j13b_df_counts\n",
        "             + j14_df_counts\n",
        "            )\n",
        "\n",
        "# Count instances of the spark dataframe\n",
        "print(\"There are \",allcounts,\" rows in the whole dataset\\n\")"
      ],
      "metadata": {
        "colab": {
          "base_uri": "https://localhost:8080/"
        },
        "id": "I7aKFOnEykg8",
        "outputId": "91120762-a993-4338-a853-63f8d9361e19"
      },
      "execution_count": null,
      "outputs": [
        {
          "output_type": "stream",
          "name": "stdout",
          "text": [
            "There are  11481596  rows in the whole dataset\n",
            "\n"
          ]
        }
      ]
    },
    {
      "cell_type": "markdown",
      "source": [
        "## **3.2.   MODIFYING THE SPARK DATAFRAMES THAT HAVE EXTRA COLUMNS**\n",
        "\n",
        "* **Goal**: The following modification (i.e. **dropping columns**) is based on the fact that the files called \"file4\", \"file6\", \"file10b\" and \"file13b\" have a different numbers of columns compared to the rest of the files."
      ],
      "metadata": {
        "id": "3etK7hfG2En3"
      }
    },
    {
      "cell_type": "code",
      "source": [
        "#Print the first row of the modified spark dataframes\n",
        "  #Note: The * syntax is used to unpack the list into individual parameters so that it can be passed as an argument to the function.\n",
        "\n",
        "#Columns to drop\n",
        "columns_to_drop = ['_c9','_c10','_c11']\n",
        "\n",
        "#Spark Dataframes to modify\n",
        "j4_df2 = j4_df.drop(*columns_to_drop)\n",
        "j6_df2 = j6_df.drop(*columns_to_drop)\n",
        "j10b_df2 = j10b_df.drop(*columns_to_drop)\n",
        "j13b_df2 = j13b_df.drop(*columns_to_drop)\n",
        "\n",
        "#Print the first row of the modified Spark dataframes just to check that the columns were dropped.\n",
        "print(\"\\nSchema of the modified Spark dataframes:\\n\")\n",
        "print(j4_df2)\n",
        "print(j6_df2)\n",
        "print(j10b_df2)\n",
        "print(j13b_df2)"
      ],
      "metadata": {
        "colab": {
          "base_uri": "https://localhost:8080/"
        },
        "id": "-ZVqWLCy2X7c",
        "outputId": "d1d55a58-d62e-4181-e4b8-dd989ac5e367"
      },
      "execution_count": null,
      "outputs": [
        {
          "output_type": "stream",
          "name": "stdout",
          "text": [
            "\n",
            "Schema of the modified Spark dataframes:\n",
            "\n",
            "DataFrame[Rental Id: int, Duration: int, Bike Id: int, End Date: string, EndStation Id: int, EndStation Name: string, Start Date: string, StartStation Id: int, StartStation Name: string]\n",
            "DataFrame[Rental Id: int, Duration: int, Bike Id: int, End Date: string, EndStation Id: int, EndStation Name: string, Start Date: string, StartStation Id: int, StartStation Name: string]\n",
            "DataFrame[Rental Id: int, Duration: int, Bike Id: int, End Date: string, EndStation Id: int, EndStation Name: string, Start Date: string, StartStation Id: int, StartStation Name: string]\n",
            "DataFrame[Rental Id: int, Duration: int, Bike Id: int, End Date: string, EndStation Id: int, EndStation Name: string, Start Date: string, StartStation Id: int, StartStation Name: string]\n"
          ]
        }
      ]
    },
    {
      "cell_type": "markdown",
      "source": [
        "## **3.3. BUILDING THE \"MAIN SPARK DATAFRAME\"**\n",
        "\n",
        "* **Goal**: Build the \"Main Spark dataframe based on the small Spark dataframes of Section 3.1. and Section 3.2."
      ],
      "metadata": {
        "id": "I0U470Cl3Snm"
      }
    },
    {
      "cell_type": "code",
      "source": [
        "# Main Spark Dataframe\n",
        "allj_df = (j1_df\n",
        "           .union(j2_df)\n",
        "           .union(j3_df)\n",
        "           .union(j4_df2) #It was modified in Section 3.2\n",
        "           .union(j5_df)\n",
        "           .union(j6_df2) #It was modified in Section 3.2\n",
        "           .union(j7_df)\n",
        "           .union(j8a_df)\n",
        "           .union(j8b_df)\n",
        "           .union(j9a_df)\n",
        "           .union(j9b_df)\n",
        "           .union(j10a_df)\n",
        "           .union(j10b_df2) #It was modified in Section 3.2\n",
        "           .union(j11a_df)\n",
        "           .union(j11b_df)\n",
        "           .union(j12a_df)\n",
        "           .union(j12b_df)\n",
        "           .union(j13a_df)\n",
        "           .union(j13b_df2) #It was modified in Section 3.2\n",
        "           .union(j14_df)\n",
        "          )\n",
        "print(\"\\nFirst row of the Main Spark Dataframe:\\n\")\n",
        "allj_df.show(1)\n",
        "\n",
        "# Number of rows of the Main Spark Dataframe\n",
        "allj_df_counts = allj_df.count()\n",
        "print(\"There are \",allj_df_counts,\" rows in the Main Spark Dataframe\\n\")"
      ],
      "metadata": {
        "colab": {
          "base_uri": "https://localhost:8080/"
        },
        "id": "zHN9dQVc3a2F",
        "outputId": "d513f0ac-f6d7-4c2c-efdd-b48a381fd11a"
      },
      "execution_count": null,
      "outputs": [
        {
          "output_type": "stream",
          "name": "stdout",
          "text": [
            "\n",
            "First row of the Main Spark Dataframe:\n",
            "\n",
            "+---------+--------+-------+----------------+-------------+--------------------+----------------+---------------+--------------------+\n",
            "|Rental Id|Duration|Bike Id|        End Date|EndStation Id|     EndStation Name|      Start Date|StartStation Id|   StartStation Name|\n",
            "+---------+--------+-------+----------------+-------------+--------------------+----------------+---------------+--------------------+\n",
            "| 29747123|    1140|    469|05/01/2014 15:54|           55|Finsbury Circus, ...|05/01/2014 15:35|            295|Swan Street, The ...|\n",
            "+---------+--------+-------+----------------+-------------+--------------------+----------------+---------------+--------------------+\n",
            "only showing top 1 row\n",
            "\n",
            "There are  11481596  rows in the Main Spark Dataframe\n",
            "\n"
          ]
        }
      ]
    },
    {
      "cell_type": "markdown",
      "source": [
        "## **3.4. MODIFYING THE \"MAIN SPARK DATAFRAME\" BUILT IN SECTION 3.3**\n",
        "\n",
        "* **Goal 1**: Drop duplicate values.\n",
        "* **Goal 2**: Drop null/zero values."
      ],
      "metadata": {
        "id": "nbUkUO4p31we"
      }
    },
    {
      "cell_type": "code",
      "source": [
        "#Dropping duplicate values.\n",
        "  #Note: \"pyspark.sql.DataFrame.distinct()\" is used to get the unique rows from all the columns from DataFrame.\n",
        "  #A \"non-unique\" row is a row in which all the values of every single column are exactly the same as the other row.\n",
        "allj_distinct_df = allj_df.distinct()\n",
        "\n",
        "  #Number of rows of the New Main Spark Dataframe (after dropping duplicates values)\n",
        "allj_distinct_counts = allj_distinct_df.count()\n",
        "print(\"There are \",allj_distinct_counts,\" rows in the New Main Spark Dataframe (after dropping duplicates values)\\n\")\n",
        "\n",
        "  #Number of duplicated rows (dropped)\n",
        "duplicate_rows_drop_counts = allj_df_counts - allj_distinct_counts\n",
        "print(\"There are \",duplicate_rows_drop_counts,\" rows dropped because they were duplicates\\n\")\n",
        "\n",
        " #Percentage of duplicated rows (dropped)\n",
        "print(\"The duplicate rows make up \",((duplicate_rows_drop_counts/allj_df_counts)*100),\"% of the original dataset\\n\")"
      ],
      "metadata": {
        "id": "jHIXSur9tOie"
      },
      "execution_count": null,
      "outputs": []
    },
    {
      "cell_type": "code",
      "source": [
        "#Dropping null/zero values.\n",
        "  #The new Main Spark Dataframe without zero values in the column \"Duration\"\n",
        "non_zeros_allj_df = allj_distinct_df.filter(\"Duration > 0\")\n",
        "\n",
        "  #Number of rows of the New Main Spark Dataframe (after dropping null values)\n",
        "non_zeros_allj_counts = non_zeros_allj_df.count()\n",
        "print(\"There are \",non_zeros_allj_counts,\" rows in the New Main Spark Dataframe (after dropping zero values of the column Duration)\\n\")\n",
        "\n",
        "  #Number of rows with zero values in the column Duration (dropped)\n",
        "zero_rows_drop_counts = allj_distinct_counts - non_zeros_allj_counts\n",
        "print(\"There are \",zero_rows_drop_counts,\" rows dropped because they had a value of zero in the column Duration\\n\")\n",
        "\n",
        " #Percentage of rows with zero values in the column Duration\n",
        "print(\"The rows with zero values make up \",((zero_rows_drop_counts/allj_df_counts)*100),\"% of the original dataset\\n\")"
      ],
      "metadata": {
        "id": "o7BNfiQb5MHF"
      },
      "execution_count": null,
      "outputs": []
    },
    {
      "cell_type": "markdown",
      "source": [
        "## **3.5. SUMMARY STATISTICS OF THE \"MAIN SPARK DATAFRAME\" BUILT IN SECTION 3.4:**\n",
        "\n",
        "* **Goal**: Gain insights into the metrics and non-metric features of the Main Dataframe. This information is related to:\n",
        "\n",
        "  * Dataframe Schema (data type of every column)\n",
        "  * Summary Statistics per year and per season (mean, standar deviation, minimum value, maximun value, first quartile, second quartile and the third quartile).\n",
        "  * Top and bottom 5 stations from which the most and fewest bike rides started and ended.\n",
        "  * Information about the Station Baylis Road, Waterloo"
      ],
      "metadata": {
        "id": "0yZgXn0Uijr_"
      }
    },
    {
      "cell_type": "code",
      "source": [
        "#Building the Spark Dataframe of the Year 2014\n",
        "  #Spark Dataframe's blueprint for subsetting the year 2014.\n",
        "year_df0 = non_zeros_allj_df.select(\n",
        "    col(\"StartStation Id\").alias(\"StartStationId\"),\n",
        "    col(\"StartStation Name\").alias(\"StartStationName\"),\n",
        "    col(\"EndStation Id\").alias(\"EndStationId\"),\n",
        "    col(\"EndStation Name\").alias(\"EndStationName\"),\n",
        "    \"Duration\",\n",
        "    to_timestamp(col(\"Start Date\"), format=\"dd/MM/yyyy HH:mm\").alias(\"StartDate\"),\n",
        "    to_timestamp(col(\"End Date\"), format=\"dd/MM/yyyy HH:mm\").alias(\"EndDate\")\n",
        "    )\n",
        "\n",
        "  #Spark Dataframe of the Year 2014\n",
        "year2014_df0 = year_df0.filter((year_df0['StartDate'] < \"2015-01-01 00:00:00\") & (year_df0['StartDate'] >= \"2014-01-01 00:00:00\"))\n",
        "\n",
        "  #Number of rows of the Spark Dataframe of the Year 2014\n",
        "year2014_df0_counts = year2014_df0.count()\n",
        "print(\"There are \",year2014_df0_counts,\" rows in the Spark Dataframe of the Year 2014 \\n\")\n",
        "\n",
        "  #Number of rows that do not belong to the year 2014\n",
        "not2014year_counts = non_zeros_allj_counts - year2014_df0_counts\n",
        "print(\"There are \",not2014year_counts,\" rows dropped because they do not belong to the Year 2014\\n\")\n",
        "\n",
        " #Percentage of that do not belong to the year 2014 (dropped)\n",
        "print(\"The rows that do not belong to the year 2014 make up \",((not2014year_counts/allj_df_counts)*100),\"% of the original dataset\\n\")"
      ],
      "metadata": {
        "id": "o4u8cI6rwusm",
        "colab": {
          "base_uri": "https://localhost:8080/"
        },
        "outputId": "6a84b97a-de39-4e20-a7a6-a3e66b4089c9"
      },
      "execution_count": null,
      "outputs": [
        {
          "output_type": "stream",
          "name": "stdout",
          "text": [
            "There are  9864291  rows in the Spark Dataframe of the Year 2014 \n",
            "\n",
            "There are  345690  rows dropped because they do not belong to the Year 2014\n",
            "\n",
            "The rows that do not belong to the year 2014 make up  3.0108183566117463 % of the original dataset\n",
            "\n"
          ]
        }
      ]
    },
    {
      "cell_type": "code",
      "source": [
        "#Schema of Spark Dataframe of the Year 2014\n",
        "print(\"\\nSchema of Spark Dataframe of the Year 2014\\n\")\n",
        "year2014_df0.schema"
      ],
      "metadata": {
        "id": "SJqH9sGlob81",
        "colab": {
          "base_uri": "https://localhost:8080/"
        },
        "outputId": "9329d264-331f-44a4-d6f8-06190635559f"
      },
      "execution_count": null,
      "outputs": [
        {
          "output_type": "stream",
          "name": "stdout",
          "text": [
            "\n",
            "Schema of Spark Dataframe of the Year 2014\n",
            "\n"
          ]
        },
        {
          "output_type": "execute_result",
          "data": {
            "text/plain": [
              "StructType([StructField('StartStationId', IntegerType(), True), StructField('StartStationName', StringType(), True), StructField('EndStationId', IntegerType(), True), StructField('EndStationName', StringType(), True), StructField('Duration', IntegerType(), True), StructField('StartDate', TimestampType(), True), StructField('EndDate', TimestampType(), True)])"
            ]
          },
          "metadata": {},
          "execution_count": 32
        }
      ]
    },
    {
      "cell_type": "code",
      "source": [
        "#Summary Statistics of the Spark Dataframe of the Year 2014\n",
        "print(\"\\nSummary Statistics of the Spark Dataframe of the Year 2014\\n\")\n",
        "year2014_df0.select(\"Duration\").summary().show()"
      ],
      "metadata": {
        "id": "JyvJEprH84QW",
        "colab": {
          "base_uri": "https://localhost:8080/"
        },
        "outputId": "469b3931-6a02-43de-e603-3035ceb5fbb0"
      },
      "execution_count": null,
      "outputs": [
        {
          "output_type": "stream",
          "name": "stdout",
          "text": [
            "\n",
            "Summary Statistics of the Spark Dataframe of the Year 2014\n",
            "\n",
            "+-------+------------------+\n",
            "|summary|          Duration|\n",
            "+-------+------------------+\n",
            "|  count|           9864291|\n",
            "|   mean|1469.6541555799602|\n",
            "| stddev|13002.929941088556|\n",
            "|    min|                60|\n",
            "|    25%|               480|\n",
            "|    50%|               840|\n",
            "|    75%|              1320|\n",
            "|    max|           2596560|\n",
            "+-------+------------------+\n",
            "\n"
          ]
        }
      ]
    },
    {
      "cell_type": "code",
      "source": [
        "#Building the Spark Dataframe of the Year 2014 per season\n",
        "  #Season: Winter_1 (January / February)\n",
        "year2014_df_winter_1 = year2014_df0.filter((year2014_df0['StartDate'] < \"2014-03-01 00:00:00\") & (year2014_df0['StartDate'] >= \"2014-01-01 00:00:00\"))\n",
        "  #Season: Winter_2 (December)\n",
        "year2014_df_winter_2 = year2014_df0.filter((year2014_df0['StartDate'] < \"2015-01-01 00:00:00\") & (year2014_df0['StartDate'] >= \"2014-12-01 00:00:00\"))\n",
        "year2014_df_winter_3 = (year2014_df_winter_1.union(year2014_df_winter_2))\n",
        "  #Season: Spring (March / April / May)\n",
        "year2014_df_spring = year2014_df0.filter((year2014_df0['StartDate'] < \"2014-06-01 00:00:00\") & (year2014_df0['StartDate'] >= \"2014-03-01 00:00:00\"))\n",
        "  #Season: Summer (June / July / August)\n",
        "year2014_df_summer = year2014_df0.filter((year2014_df0['StartDate'] < \"2014-09-01 00:00:00\") & (year2014_df0['StartDate'] >= \"2014-06-01 00:00:00\"))\n",
        "  #Season: Autumn (September / Octobe / November)\n",
        "year2014_df_autumn = year2014_df0.filter((year2014_df0['StartDate'] < \"2014-12-01 00:00:00\") & (year2014_df0['StartDate'] >= \"2014-09-01 00:00:00\"))"
      ],
      "metadata": {
        "id": "E2cdqyLorXPk"
      },
      "execution_count": null,
      "outputs": []
    },
    {
      "cell_type": "code",
      "source": [
        "#Summary Statistics of the Spark Dataframe of the Year 2014 per season\n",
        "  #Season: Winter (January / February / December)\n",
        "print(\"\\nSummary Statistics of bike rides in Winter 2014 (January / February / December)\\n\")\n",
        "year2014_df_winter_3.select(\"Duration\").summary().show()\n",
        "  #Season: Spring (March / April / May)\n",
        "print(\"\\nSummary Statistics of bike rides in Spring 2014 (March / April / May)\\n\")\n",
        "year2014_df_spring.select(\"Duration\").summary().show()\n",
        "  #Season: Summer (June / July / August)\n",
        "print(\"\\nSummary Statistics of bike rides in Summer 2014 (June / July / August)\\n\")\n",
        "year2014_df_summer.select(\"Duration\").summary().show()\n",
        "  #Season: Autumn (September / October / November)\n",
        "print(\"\\nSummary Statistics of bike rides in Autumn 2014 (September / October / November)\\n\")\n",
        "year2014_df_autumn.select(\"Duration\").summary().show()"
      ],
      "metadata": {
        "id": "Ot6c28Tg11gB",
        "colab": {
          "base_uri": "https://localhost:8080/"
        },
        "outputId": "90471fdf-52e2-4489-a381-50b2bf6153ca"
      },
      "execution_count": null,
      "outputs": [
        {
          "output_type": "stream",
          "name": "stdout",
          "text": [
            "\n",
            "Summary Statistics of bike rides in Winter 2014 (January / February / December)\n",
            "\n",
            "+-------+------------------+\n",
            "|summary|          Duration|\n",
            "+-------+------------------+\n",
            "|  count|           1572410|\n",
            "|   mean|1321.8147175355027|\n",
            "| stddev| 12806.46055221281|\n",
            "|    min|                60|\n",
            "|    25%|               420|\n",
            "|    50%|               720|\n",
            "|    75%|              1140|\n",
            "|    max|           2460120|\n",
            "+-------+------------------+\n",
            "\n",
            "\n",
            "Summary Statistics of bike rides in Spring 2014 (March / April / May)\n",
            "\n",
            "+-------+------------------+\n",
            "|summary|          Duration|\n",
            "+-------+------------------+\n",
            "|  count|           2417456|\n",
            "|   mean| 1519.982783554282|\n",
            "| stddev|12920.097068271201|\n",
            "|    min|                60|\n",
            "|    25%|               480|\n",
            "|    50%|               840|\n",
            "|    75%|              1320|\n",
            "|    max|           2564700|\n",
            "+-------+------------------+\n",
            "\n",
            "\n",
            "Summary Statistics of bike rides in Summer 2014 (June / July / August)\n",
            "\n",
            "+-------+------------------+\n",
            "|summary|          Duration|\n",
            "+-------+------------------+\n",
            "|  count|           3234421|\n",
            "|   mean|1596.0379616629994|\n",
            "| stddev|13380.010592747512|\n",
            "|    min|                60|\n",
            "|    25%|               540|\n",
            "|    50%|               900|\n",
            "|    75%|              1440|\n",
            "|    max|           2596560|\n",
            "+-------+------------------+\n",
            "\n",
            "\n",
            "Summary Statistics of bike rides in Summer 2014 (September / October / November)\n",
            "\n",
            "+-------+------------------+\n",
            "|summary|          Duration|\n",
            "+-------+------------------+\n",
            "|  count|           2640004|\n",
            "|   mean|1356.7825579052153|\n",
            "| stddev|12721.112709894967|\n",
            "|    min|                60|\n",
            "|    25%|               480|\n",
            "|    50%|               780|\n",
            "|    75%|              1260|\n",
            "|    max|           2419440|\n",
            "+-------+------------------+\n",
            "\n"
          ]
        }
      ]
    },
    {
      "cell_type": "code",
      "source": [
        "#Summary Statistics of the Spark Dataframe of the Year 2014 for the Baylis Road, Waterloo station\n",
        "year2014_waterloo_info_df = year2014_df0.filter((year2014_df0['StartDate'] < \"2015-01-01 00:00:00\") & (year2014_df0['StartDate'] >= \"2014-01-01 00:00:00\") & (year2014_df0[\"StartStationId\"] == \"272\"))\n",
        "print(\"\\nSummary Statistics of the Spark Dataframe of the Year 2014 for the Baylis Road, Waterloo station\\n\")\n",
        "year2014_waterloo_info_df.select(\"Duration\").summary().show()\n"
      ],
      "metadata": {
        "id": "idTcvVUo8ZTZ",
        "colab": {
          "base_uri": "https://localhost:8080/"
        },
        "outputId": "e5f54e5c-7813-47f6-d8ae-3c8e45971794"
      },
      "execution_count": null,
      "outputs": [
        {
          "output_type": "stream",
          "name": "stdout",
          "text": [
            "\n",
            "Summary Statistics of the Spark Dataframe of the Year 2014 for the Baylis Road, Waterloo station\n",
            "\n",
            "+-------+------------------+\n",
            "|summary|          Duration|\n",
            "+-------+------------------+\n",
            "|  count|             26327|\n",
            "|   mean|1046.6851521251947|\n",
            "| stddev|  6409.87341483053|\n",
            "|    min|                60|\n",
            "|    25%|               420|\n",
            "|    50%|               660|\n",
            "|    75%|              1020|\n",
            "|    max|            628200|\n",
            "+-------+------------------+\n",
            "\n"
          ]
        }
      ]
    },
    {
      "cell_type": "code",
      "source": [
        "#Top 5 StartStation names from which most bike rides started\n",
        "print(\"\\nTop 5 StartStation names from which most bike rides started\\n\")\n",
        "year2014_df0.groupBy(\"StartStationName\").count().orderBy(col('count').desc()).show(5)"
      ],
      "metadata": {
        "id": "IJIFDEMq98WQ",
        "colab": {
          "base_uri": "https://localhost:8080/"
        },
        "outputId": "464eaa39-1c56-4efe-81d8-64b7255c0c6a"
      },
      "execution_count": null,
      "outputs": [
        {
          "output_type": "stream",
          "name": "stdout",
          "text": [
            "\n",
            "Top 5 StartStation names from which most bike rides started\n",
            "\n",
            "+--------------------+-----+\n",
            "|    StartStationName|count|\n",
            "+--------------------+-----+\n",
            "|Hyde Park Corner,...|99622|\n",
            "|Belgrove Street ,...|85283|\n",
            "|Waterloo Station ...|78295|\n",
            "|Black Lion Gate, ...|70507|\n",
            "|Albert Gate, Hyde...|68497|\n",
            "+--------------------+-----+\n",
            "only showing top 5 rows\n",
            "\n"
          ]
        }
      ]
    },
    {
      "cell_type": "code",
      "source": [
        "#Bottom 5 StartStation names from which the fewest bike rides started\n",
        "print(\"\\nBottom 5 StartStation names from which the fewest bike rides started\\n\")\n",
        "year2014_df0.groupBy(\"StartStationName\").count().orderBy(col('count').asc()).show(5)"
      ],
      "metadata": {
        "colab": {
          "base_uri": "https://localhost:8080/"
        },
        "id": "j4jZWCJV2R9R",
        "outputId": "de739204-38b4-4be7-82b9-f07e75879ef2"
      },
      "execution_count": null,
      "outputs": [
        {
          "output_type": "stream",
          "name": "stdout",
          "text": [
            "\n",
            "Bottom 5 StartStation names from which the fewest bike rides started\n",
            "\n",
            "+--------------------+-----+\n",
            "|    StartStationName|count|\n",
            "+--------------------+-----+\n",
            "|Mechanical Worksh...|    1|\n",
            "|           tabletop1|    2|\n",
            "|Contact Centre, S...|    5|\n",
            "|       Pop Up Dock 1|  562|\n",
            "|Limburg Road, Cla...|  705|\n",
            "+--------------------+-----+\n",
            "only showing top 5 rows\n",
            "\n"
          ]
        }
      ]
    },
    {
      "cell_type": "code",
      "source": [
        "#Top 5 EndStationName names from which most bike rides ended\n",
        "print(\"\\nTop 5 EndStationName names from which most bike rides ended\\n\")\n",
        "#year2014_df0.groupBy(\"EndStationName\").count().show(5)\n",
        "year2014_df0.groupBy(\"EndStationName\").count().orderBy(col('count').desc()).show(5)"
      ],
      "metadata": {
        "colab": {
          "base_uri": "https://localhost:8080/"
        },
        "id": "I4u2X_QR9l0y",
        "outputId": "8b681c04-7d34-4d94-a8c9-8e867364716e"
      },
      "execution_count": null,
      "outputs": [
        {
          "output_type": "stream",
          "name": "stdout",
          "text": [
            "\n",
            "Top 5 EndStationName names from which most bike rides ended\n",
            "\n",
            "+--------------------+-----+\n",
            "|      EndStationName|count|\n",
            "+--------------------+-----+\n",
            "|Hyde Park Corner,...|99265|\n",
            "|Belgrove Street ,...|84439|\n",
            "|Waterloo Station ...|80818|\n",
            "|Albert Gate, Hyde...|69117|\n",
            "|Black Lion Gate, ...|67759|\n",
            "+--------------------+-----+\n",
            "only showing top 5 rows\n",
            "\n"
          ]
        }
      ]
    },
    {
      "cell_type": "code",
      "source": [
        "#Bottom 5 EndStationName names from which the fewest bike rides ended\n",
        "print(\"\\nBottom 5 EndStationName names from which the fewest bike rides ended\\n\")\n",
        "#year2014_df0.groupBy(\"EndStationName\").count().tail(5)\n",
        "year2014_df0.groupBy(\"EndStationName\").count().orderBy(col('count').asc()).show(5)"
      ],
      "metadata": {
        "colab": {
          "base_uri": "https://localhost:8080/"
        },
        "id": "g9mGHV8J9sFZ",
        "outputId": "1b71a234-3f5a-4108-98a6-abeb24ae5d81"
      },
      "execution_count": null,
      "outputs": [
        {
          "output_type": "stream",
          "name": "stdout",
          "text": [
            "\n",
            "Bottom 5 EndStationName names from which the fewest bike rides ended\n",
            "\n",
            "+--------------------+-----+\n",
            "|      EndStationName|count|\n",
            "+--------------------+-----+\n",
            "|           tabletop1|    2|\n",
            "|Contact Centre, S...|    6|\n",
            "|Electrical Worksh...|   20|\n",
            "|                null|  130|\n",
            "|Mechanical Worksh...|  215|\n",
            "+--------------------+-----+\n",
            "only showing top 5 rows\n",
            "\n"
          ]
        }
      ]
    },
    {
      "cell_type": "code",
      "source": [
        "#Getting more information about the Station Baylis Road, Waterloo\n",
        "  #Finding the \"StartStation Id\" related to the Station Baylis Road, Waterloo\n",
        "year2014_df0.where(col(\"StartStationName\").like(\"%Baylis Road, Waterloo%\")).show(1)"
      ],
      "metadata": {
        "id": "HnoCH_9lfOTG",
        "colab": {
          "base_uri": "https://localhost:8080/"
        },
        "outputId": "d741f719-02ab-44a5-d57b-7c719d7006e4"
      },
      "execution_count": null,
      "outputs": [
        {
          "output_type": "stream",
          "name": "stdout",
          "text": [
            "+--------------+--------------------+------------+--------------------+--------+-------------------+-------------------+\n",
            "|StartStationId|    StartStationName|EndStationId|      EndStationName|Duration|          StartDate|            EndDate|\n",
            "+--------------+--------------------+------------+--------------------+--------+-------------------+-------------------+\n",
            "|           272|Baylis Road, Wate...|         170|Hardwick Street, ...|     960|2014-01-15 12:44:00|2014-01-15 13:00:00|\n",
            "+--------------+--------------------+------------+--------------------+--------+-------------------+-------------------+\n",
            "only showing top 1 row\n",
            "\n"
          ]
        }
      ]
    },
    {
      "cell_type": "markdown",
      "source": [
        "## **3.6. MODIFYING THE \"MAIN SPARK DATAFRAME\" BUILT IN SECTION 3.4**\n",
        "\n",
        "* **Goal**: Drop outliers.\n",
        "\n",
        "  * An observation is considered statistically as an outlier (in the column \"Duration\") if it is beyond the threshold of the \"Lower Boundary\" (computed using the First Quartile also called 25th percentile) or \"Upper Boundary\" (computed using the Third Quartile, also called 75th percentile).\n",
        "\n",
        "  * The values to compute the \"Lower Boundary\" or \"Upper Boundary\" of the column \"Duration\" were extracted from the \"Summary Statistics of the Spark Dataframe of the Year 2014\" (Section 3.5) as shown below:\n",
        "\n",
        "      * Minimun value: 60 seconds\n",
        "      * 25th percentile (Q1): 480 seconds\n",
        "      * 50th percentile (Q2): 840 seconds\n",
        "      * 75th percentile (Q3): 1320 seconds\n",
        "      * Maximum value: 2596560 seconds\n",
        "\n",
        "  * Interquartile range (IQR) = Q3 - Q1 = 1320 - 480 = 840 seconds\n",
        "\n",
        "  * Computing the \"Lower Boundary\" and \"Upper Boundary\":\n",
        "\n",
        "    * Lower Boundary: Q1 – (1.5 x IQR) = 480 – (1.5 x 840) = -780 seconds\n",
        "\n",
        "    * Upper Boundary: Q3 + (1.5 x IQR) = 1320 + (1.5 x 840) = 2580 seconds\n",
        "\n",
        "  * *Note: Considering that a negative value does not make sense in the column Duration, the lower boundary for outliers will be values above zero seconds (0 seconds)*.\n",
        "\n",
        "\n"
      ],
      "metadata": {
        "id": "vwNG5xOsF2zt"
      }
    },
    {
      "cell_type": "code",
      "source": [
        "#Dropping the outliers\n",
        "  #The new Main Spark Dataframe without outliers values in the column \"Duration\".\n",
        "year2014_df0_no_woo = year2014_df0.filter(year2014_df0['Duration'] <= \"2580\")\n",
        "\n",
        "  #Number of rows of the New Main Spark Dataframe (after dropping outliers values)\n",
        "year2014_df0_no_woo_counts = year2014_df0_no_woo.count()\n",
        "print(\"There are \",year2014_df0_no_woo_counts,\" rows in the New Main Spark Dataframe (after dropping outliers)\\n\")\n",
        "\n",
        "  #Number of outliers rows (dropped)\n",
        "outliers_rows_drop_counts = allj_df_counts - year2014_df0_no_woo_counts\n",
        "print(\"There are \",outliers_rows_drop_counts,\" rows dropped because they were outliers\\n\")\n",
        "\n",
        " #Percentage of outliers rows (dropped)\n",
        "print(\"The outliers rows make up \",((outliers_rows_drop_counts/allj_df_counts)*100),\"% of the original dataset\\n\")"
      ],
      "metadata": {
        "id": "uEsbbql_qHmu",
        "colab": {
          "base_uri": "https://localhost:8080/"
        },
        "outputId": "1f040507-9fc9-40fe-d616-3832c89d89bf"
      },
      "execution_count": null,
      "outputs": [
        {
          "output_type": "stream",
          "name": "stdout",
          "text": [
            "There are  9214759  rows in the New Main Spark Dataframe (after dropping outliers)\n",
            "\n",
            "There are  2266837  rows dropped because they were outliers\n",
            "\n",
            "The outliers rows make up  19.743222109539474 % of the original dataset\n",
            "\n"
          ]
        }
      ]
    },
    {
      "cell_type": "code",
      "source": [
        "#Summary Statistics of the Spark Dataframe of the Year 2014 (after dropping outliers)\n",
        "print(\"\\nSummary Statistics of the Spark Dataframe of the Year 2014 (after dropping outliers)\\n\")\n",
        "year2014_df0_no_woo.select(\"Duration\").summary().show()"
      ],
      "metadata": {
        "id": "zUgIrUw9847I",
        "colab": {
          "base_uri": "https://localhost:8080/"
        },
        "outputId": "19a9159d-c39b-4b8b-be31-e87b442aad37"
      },
      "execution_count": null,
      "outputs": [
        {
          "output_type": "stream",
          "name": "stdout",
          "text": [
            "\n",
            "Summary Statistics of the Spark Dataframe of the Year 2014 (after dropping outliers)\n",
            "\n",
            "+-------+-----------------+\n",
            "|summary|         Duration|\n",
            "+-------+-----------------+\n",
            "|  count|          9214759|\n",
            "|   mean|881.4020855021819|\n",
            "| stddev| 520.184217420889|\n",
            "|    min|               60|\n",
            "|    25%|              480|\n",
            "|    50%|              780|\n",
            "|    75%|             1200|\n",
            "|    max|             2580|\n",
            "+-------+-----------------+\n",
            "\n"
          ]
        }
      ]
    },
    {
      "cell_type": "code",
      "source": [
        "#Building the Spark Dataframe of the Year 2014 per season (after dropping outliers)\n",
        "  #Season: Winter_1 (January / February )\n",
        "year2014_df_winter_1_woo = year2014_df0_no_woo.filter((year2014_df0_no_woo['StartDate'] < \"2014-03-01 00:00:00\") & (year2014_df0_no_woo['StartDate'] >= \"2014-01-01 00:00:00\"))\n",
        "  #Season: Winter_2 (December)\n",
        "year2014_df_winter_2_woo = year2014_df0_no_woo.filter((year2014_df0_no_woo['StartDate'] < \"2015-01-01 00:00:00\") & (year2014_df0_no_woo['StartDate'] >= \"2014-12-01 00:00:00\"))\n",
        "year2014_df_winter_3_woo = (year2014_df_winter_1_woo.union(year2014_df_winter_2_woo))\n",
        "  #Season: Spring (March / April / May)\n",
        "year2014_df_spring_woo = year2014_df0_no_woo.filter((year2014_df0_no_woo['StartDate'] < \"2014-06-01 00:00:00\") & (year2014_df0_no_woo['StartDate'] >= \"2014-03-01 00:00:00\"))\n",
        "  #Season: Summer (June / July / August)\n",
        "year2014_df_summer_woo = year2014_df0_no_woo.filter((year2014_df0_no_woo['StartDate'] < \"2014-09-01 00:00:00\") & (year2014_df0_no_woo['StartDate'] >= \"2014-06-01 00:00:00\"))\n",
        "  #Season: Autumn (September / Octobe / November)\n",
        "year2014_df_autumn_woo = year2014_df0_no_woo.filter((year2014_df0_no_woo['StartDate'] < \"2014-12-01 00:00:00\") & (year2014_df0_no_woo['StartDate'] >= \"2014-09-01 00:00:00\"))"
      ],
      "metadata": {
        "id": "RNVd90SmElOZ"
      },
      "execution_count": null,
      "outputs": []
    },
    {
      "cell_type": "markdown",
      "source": [
        "## **3.7. GRAPHS PER SEASON FROM THE \"MAIN SPARK DATAFRAME\" BUILT IN SECTION 3.4 AND SECTION 3.6.**\n",
        "\n",
        "* **Goal**: Gain insights into the metrics features of the Main Dataframe through:\n",
        "\n",
        "  * Histogram\n",
        "  * BoxPlot"
      ],
      "metadata": {
        "id": "AqMVi7I8iwHW"
      }
    },
    {
      "cell_type": "markdown",
      "source": [
        "### **3.7.1. GRAPHS PER SEASON FROM THE \"MAIN SPARK DATAFRAME\" BUILT IN SECTION 3.4**\n",
        "\n",
        "* The information conveyed in these graphs is before dropping the outliers.\n",
        "\n"
      ],
      "metadata": {
        "id": "kXVvbeNwVERe"
      }
    },
    {
      "cell_type": "code",
      "source": [
        "#Histogram of the Main Spark Dataframe, Winter 2014 (excluding duplicate rows, and zero values)\n",
        "plot_pdf_winter = year2014_df_winter_3[[\"Duration\"]].toPandas() # take just \"Duration\" col, convert to pandas dataframe structure ready to plot\n",
        "\n",
        "plot_pdf_winter.plot(kind=\"hist\",bins=100, title=\"Distribution of bike rides in Winter 2014 (excluding duplicate rows, and zero values)\",color='orange')\n",
        "plt.xlabel(\"Duration (seconds)\")\n",
        "plt.show()"
      ],
      "metadata": {
        "colab": {
          "base_uri": "https://localhost:8080/",
          "height": 487
        },
        "id": "qDhbfZtOA5p3",
        "outputId": "ed695115-bfd8-42ef-8bcd-ea67cad1f69c"
      },
      "execution_count": null,
      "outputs": [
        {
          "output_type": "display_data",
          "data": {
            "text/plain": [
              "<Figure size 640x480 with 1 Axes>"
            ],
            "image/png": "[encoded data removed]"
          },
          "metadata": {}
        }
      ]
    },
    {
      "cell_type": "code",
      "source": [
        "#Histogram of the Main Spark Dataframe, Spring 2014 (excluding duplicate rows, and zero values)\n",
        "plot_pdf_spring = year2014_df_spring[[\"Duration\"]].toPandas() # take just \"Duration\" col, convert to pandas dataframe structure ready to plot\n",
        "\n",
        "plot_pdf_winter.plot(kind=\"hist\",bins=100, title=\"Distribution of bike rides in Spring 2014 (excluding duplicate rows, and zero values)\",color='orange')\n",
        "plt.xlabel(\"Duration (seconds)\")\n",
        "plt.show()"
      ],
      "metadata": {
        "colab": {
          "base_uri": "https://localhost:8080/",
          "height": 487
        },
        "id": "wD0KiqH7DGdI",
        "outputId": "1f7a7dde-98fa-41df-b38b-141b518800bf"
      },
      "execution_count": null,
      "outputs": [
        {
          "output_type": "display_data",
          "data": {
            "text/plain": [
              "<Figure size 640x480 with 1 Axes>"
            ],
            "image/png": "[encoded data removed]"
          },
          "metadata": {}
        }
      ]
    },
    {
      "cell_type": "code",
      "source": [
        "#Histogram of the Main Spark Dataframe, Summer 2014 (excluding duplicate rows, and zero values)\n",
        "plot_pdf_summer = year2014_df_summer[[\"Duration\"]].toPandas() # take just \"Duration\" col, convert to pandas dataframe structure ready to plot\n",
        "\n",
        "plot_pdf_winter.plot(kind=\"hist\",bins=100, title=\"Distribution of bike rides in Summer 2014 (excluding duplicate rows, and zero values)\",color='orange')\n",
        "plt.xlabel(\"Duration (seconds)\")\n",
        "plt.show()"
      ],
      "metadata": {
        "colab": {
          "base_uri": "https://localhost:8080/",
          "height": 487
        },
        "id": "UkPbajTqDHXa",
        "outputId": "ae342fe8-f83e-484f-a8d8-a8c37711f27e"
      },
      "execution_count": null,
      "outputs": [
        {
          "output_type": "display_data",
          "data": {
            "text/plain": [
              "<Figure size 640x480 with 1 Axes>"
            ],
            "image/png": "[encoded data removed]"
          },
          "metadata": {}
        }
      ]
    },
    {
      "cell_type": "code",
      "source": [
        "#Histogram of the Main Spark Dataframe, Autumn 2014 (excluding duplicate rows, and zero values)\n",
        "plot_pdf_autumn = year2014_df_autumn[[\"Duration\"]].toPandas() # take just \"Duration\" col, convert to pandas dataframe structure ready to plot\n",
        "\n",
        "plot_pdf_winter.plot(kind=\"hist\",bins=100, title=\"Distribution of bike rides in Autumn 2014 (excluding duplicate rows, and zero values)\",color='orange')\n",
        "plt.xlabel(\"Duration (seconds)\")\n",
        "plt.show()"
      ],
      "metadata": {
        "colab": {
          "base_uri": "https://localhost:8080/",
          "height": 487
        },
        "id": "GlbLaePoDCZZ",
        "outputId": "ec011f72-5f4b-4dbe-8d80-56ed2ebccc0b"
      },
      "execution_count": null,
      "outputs": [
        {
          "output_type": "display_data",
          "data": {
            "text/plain": [
              "<Figure size 640x480 with 1 Axes>"
            ],
            "image/png": "[encoded data removed]"
          },
          "metadata": {}
        }
      ]
    },
    {
      "cell_type": "markdown",
      "source": [
        "### **3.7.2. GRAPHS FROM THE \"MAIN SPARK DATAFRAME\" BUILT IN SECTION 3.6**\n",
        "\n",
        "* The information conveyed in these graphs is after dropping the outliers."
      ],
      "metadata": {
        "id": "oT35KZypVg_R"
      }
    },
    {
      "cell_type": "code",
      "source": [
        "#Histogram of the Main Spark Dataframe, Winter 2014 (excluding outliers, duplicate rows, and zero values)\n",
        "plot_pdf_winter_woo = year2014_df_winter_3_woo[[\"Duration\"]].toPandas()\n",
        "\n",
        "plot_pdf_winter_woo.plot(kind=\"hist\",bins=100, title=\"Distribution of bike rides in Winter 2014 (excluding outliers, duplicate rows, and zero values)\",color='green')\n",
        "plt.xlabel(\"Duration (seconds)\")\n",
        "plt.show()"
      ],
      "metadata": {
        "colab": {
          "base_uri": "https://localhost:8080/",
          "height": 472
        },
        "id": "y7Jp2bSKBD0n",
        "outputId": "a52cb17d-d3f8-4388-f3fc-04fcaadc8e82"
      },
      "execution_count": null,
      "outputs": [
        {
          "output_type": "display_data",
          "data": {
            "text/plain": [
              "<Figure size 640x480 with 1 Axes>"
            ],
            "image/png": "[encoded data removed]"
          },
          "metadata": {}
        }
      ]
    },
    {
      "cell_type": "code",
      "source": [
        "#Histogram of the Main Spark Dataframe, Spring 2014 (excluding outliers, duplicate rows, and zero values)\n",
        "plot_pdf_spring_woo = year2014_df_spring_woo[[\"Duration\"]].toPandas()\n",
        "\n",
        "plot_pdf_spring_woo.plot(kind=\"hist\",bins=100, title=\"Distribution of bike rides in Spring 2014 (excluding outliers, duplicate rows, and zero values)\",color='green')\n",
        "plt.xlabel(\"Duration (seconds)\")\n",
        "plt.show()"
      ],
      "metadata": {
        "colab": {
          "base_uri": "https://localhost:8080/",
          "height": 472
        },
        "id": "y7XFILBmFGto",
        "outputId": "7ce93caf-6eac-4cb8-b869-3c7f3d3bc886"
      },
      "execution_count": null,
      "outputs": [
        {
          "output_type": "display_data",
          "data": {
            "text/plain": [
              "<Figure size 640x480 with 1 Axes>"
            ],
            "image/png": "[encoded data removed]"
          },
          "metadata": {}
        }
      ]
    },
    {
      "cell_type": "code",
      "source": [
        "#Histogram of the Main Spark Dataframe, Summer 2014 (excluding outliers, duplicate rows, and zero values)\n",
        "plot_pdf_summer_woo = year2014_df_summer_woo[[\"Duration\"]].toPandas()\n",
        "\n",
        "plot_pdf_summer_woo.plot(kind=\"hist\",bins=100, title=\"Distribution of bike rides in Summer 2014 (excluding outliers, duplicate rows, and zero values)\",color='green')\n",
        "plt.xlabel(\"Duration (seconds)\")\n",
        "plt.show()"
      ],
      "metadata": {
        "colab": {
          "base_uri": "https://localhost:8080/",
          "height": 472
        },
        "id": "TEWSglFlFGkx",
        "outputId": "632ac368-410e-45b3-918c-1487381b4ad9"
      },
      "execution_count": null,
      "outputs": [
        {
          "output_type": "display_data",
          "data": {
            "text/plain": [
              "<Figure size 640x480 with 1 Axes>"
            ],
            "image/png": "[encoded data removed]"
          },
          "metadata": {}
        }
      ]
    },
    {
      "cell_type": "code",
      "source": [
        "#Histogram of the Main Spark Dataframe, Autumn 2014 (excluding outliers, duplicate rows, and zero values)\n",
        "plot_pdf_autumn_woo = year2014_df_autumn_woo[[\"Duration\"]].toPandas()\n",
        "#print(\"we have \", plot_df.count(),\" elements to plot\")\n",
        "\n",
        "plot_pdf_autumn_woo.plot(kind=\"hist\",bins=100, title=\"Distribution of bike rides in Autumn 2014 (excluding outliers, duplicate rows, and zero values)\",color='green')\n",
        "plt.xlabel(\"Duration (seconds)\")\n",
        "plt.show()"
      ],
      "metadata": {
        "colab": {
          "base_uri": "https://localhost:8080/",
          "height": 472
        },
        "id": "ktasyzSVFGbE",
        "outputId": "0d3455ab-3294-4155-ac4d-fc046655e04a"
      },
      "execution_count": null,
      "outputs": [
        {
          "output_type": "display_data",
          "data": {
            "text/plain": [
              "<Figure size 640x480 with 1 Axes>"
            ],
            "image/png": "[encoded data removed]"
          },
          "metadata": {}
        }
      ]
    },
    {
      "cell_type": "markdown",
      "source": [
        "# **4. PREPARING THE DATA FOR THE STATISTICAL TEST, BASED ON THE \"MAIN SPARK DATAFRAME\" BUILT IN SECTION 3.6**\n"
      ],
      "metadata": {
        "id": "PT544J-ck4wh"
      }
    },
    {
      "cell_type": "code",
      "source": [
        "#Splitting/Joining the Spark Dataframe per month (Station Baylis Road, Waterloo)\n",
        "  #Filtering the Spark Dataframe of the Year 2014 according to the \"StartStation Id\" of the Station Baylis Road, Waterloo.\n",
        "  #Grouping according to the \"StartStation Id\" of the Station Baylis Road, Waterloo.\n",
        "  #Getting the average Duration per month of the Station Baylis Road, Waterloo.\n",
        "year2014_jan_waterloo_df = year2014_df0_no_woo.filter((year2014_df0_no_woo['StartDate'] < \"2014-02-01 00:00:00\") & (year2014_df0_no_woo['StartDate'] >= \"2014-01-01 00:00:00\") & (year2014_df0_no_woo[\"StartStationId\"] == \"272\")).groupBy(\"StartStationId\").avg()\n",
        "year2014_feb_waterloo_df = year2014_df0_no_woo.filter((year2014_df0_no_woo['StartDate'] < \"2014-03-01 00:00:00\") & (year2014_df0_no_woo['StartDate'] >= \"2014-02-01 00:00:00\") & (year2014_df0_no_woo[\"StartStationId\"] == \"272\")).groupBy(\"StartStationId\").avg()\n",
        "year2014_mar_waterloo_df = year2014_df0_no_woo.filter((year2014_df0_no_woo['StartDate'] < \"2014-04-01 00:00:00\") & (year2014_df0_no_woo['StartDate'] >= \"2014-03-01 00:00:00\") & (year2014_df0_no_woo[\"StartStationId\"] == \"272\")).groupBy(\"StartStationId\").avg()\n",
        "year2014_apr_waterloo_df = year2014_df0_no_woo.filter((year2014_df0_no_woo['StartDate'] < \"2014-05-01 00:00:00\") & (year2014_df0_no_woo['StartDate'] >= \"2014-04-01 00:00:00\") & (year2014_df0_no_woo[\"StartStationId\"] == \"272\")).groupBy(\"StartStationId\").avg()\n",
        "year2014_may_waterloo_df = year2014_df0_no_woo.filter((year2014_df0_no_woo['StartDate'] < \"2014-06-01 00:00:00\") & (year2014_df0_no_woo['StartDate'] >= \"2014-05-01 00:00:00\") & (year2014_df0_no_woo[\"StartStationId\"] == \"272\")).groupBy(\"StartStationId\").avg()\n",
        "year2014_jun_waterloo_df = year2014_df0_no_woo.filter((year2014_df0_no_woo['StartDate'] < \"2014-07-01 00:00:00\") & (year2014_df0_no_woo['StartDate'] >= \"2014-06-01 00:00:00\") & (year2014_df0_no_woo[\"StartStationId\"] == \"272\")).groupBy(\"StartStationId\").avg()\n",
        "year2014_jul_waterloo_df = year2014_df0_no_woo.filter((year2014_df0_no_woo['StartDate'] < \"2014-08-01 00:00:00\") & (year2014_df0_no_woo['StartDate'] >= \"2014-07-01 00:00:00\") & (year2014_df0_no_woo[\"StartStationId\"] == \"272\")).groupBy(\"StartStationId\").avg()\n",
        "year2014_aug_waterloo_df = year2014_df0_no_woo.filter((year2014_df0_no_woo['StartDate'] < \"2014-09-01 00:00:00\") & (year2014_df0_no_woo['StartDate'] >= \"2014-08-01 00:00:00\") & (year2014_df0_no_woo[\"StartStationId\"] == \"272\")).groupBy(\"StartStationId\").avg()\n",
        "year2014_sep_waterloo_df = year2014_df0_no_woo.filter((year2014_df0_no_woo['StartDate'] < \"2014-10-01 00:00:00\") & (year2014_df0_no_woo['StartDate'] >= \"2014-09-01 00:00:00\") & (year2014_df0_no_woo[\"StartStationId\"] == \"272\")).groupBy(\"StartStationId\").avg()\n",
        "year2014_oct_waterloo_df = year2014_df0_no_woo.filter((year2014_df0_no_woo['StartDate'] < \"2014-11-01 00:00:00\") & (year2014_df0_no_woo['StartDate'] >= \"2014-10-01 00:00:00\") & (year2014_df0_no_woo[\"StartStationId\"] == \"272\")).groupBy(\"StartStationId\").avg()\n",
        "year2014_nov_waterloo_df = year2014_df0_no_woo.filter((year2014_df0_no_woo['StartDate'] < \"2014-12-01 00:00:00\") & (year2014_df0_no_woo['StartDate'] >= \"2014-11-01 00:00:00\") & (year2014_df0_no_woo[\"StartStationId\"] == \"272\")).groupBy(\"StartStationId\").avg()\n",
        "year2014_dec_waterloo_df = year2014_df0_no_woo.filter((year2014_df0_no_woo['StartDate'] < \"2015-01-01 00:00:00\") & (year2014_df0_no_woo['StartDate'] >= \"2014-12-01 00:00:00\") & (year2014_df0_no_woo[\"StartStationId\"] == \"272\")).groupBy(\"StartStationId\").avg()\n",
        "\n",
        "  #Spark Dataframe of the Year 2014 for the Station Baylis Road, Waterloo\n",
        "print(\"Main Dataframe:\\n\")\n",
        "year2014_all_waterloo_df = (year2014_jan_waterloo_df\n",
        "           .union(year2014_feb_waterloo_df)\n",
        "           .union(year2014_mar_waterloo_df)\n",
        "           .union(year2014_apr_waterloo_df)\n",
        "           .union(year2014_may_waterloo_df)\n",
        "           .union(year2014_jun_waterloo_df)\n",
        "           .union(year2014_jul_waterloo_df)\n",
        "           .union(year2014_aug_waterloo_df)\n",
        "           .union(year2014_sep_waterloo_df)\n",
        "           .union(year2014_oct_waterloo_df)\n",
        "           .union(year2014_nov_waterloo_df)\n",
        "           .union(year2014_dec_waterloo_df)\n",
        "          )\n",
        "year2014_all_waterloo_df"
      ],
      "metadata": {
        "colab": {
          "base_uri": "https://localhost:8080/"
        },
        "id": "3eLKaFL3uZOG",
        "outputId": "b48d6574-dae5-409f-89b1-0ac282b7475d"
      },
      "execution_count": null,
      "outputs": [
        {
          "output_type": "stream",
          "name": "stdout",
          "text": [
            "Main Dataframe:\n",
            "\n"
          ]
        },
        {
          "output_type": "execute_result",
          "data": {
            "text/plain": [
              "DataFrame[StartStationId: int, avg(StartStationId): double, avg(EndStationId): double, avg(Duration): double]"
            ]
          },
          "metadata": {},
          "execution_count": 51
        }
      ]
    },
    {
      "cell_type": "code",
      "source": [
        "#Number of rows in the Spark Dataframe (aggregate) of the Year 2014 of the Station Baylis Road, Waterloo\n",
        "year2014_all_waterloo_df_counts = year2014_all_waterloo_df.count()\n",
        "print(\"There are \",year2014_all_waterloo_df_counts,\" rows in the Spark Dataframe (aggregate) of the Year 2014 of the Station Baylis Road, Waterloo (after filtering and grouping)\\n\")"
      ],
      "metadata": {
        "colab": {
          "base_uri": "https://localhost:8080/"
        },
        "id": "ISBOBjvUxSQQ",
        "outputId": "39a4a036-41f5-4dcb-f34a-82a3c744d043"
      },
      "execution_count": null,
      "outputs": [
        {
          "output_type": "stream",
          "name": "stdout",
          "text": [
            "There are  12  rows in the Spark Dataframe of the Year 2014 of the Station Baylis Road, Waterloo (after filtering and grouping)\n",
            "\n"
          ]
        }
      ]
    },
    {
      "cell_type": "code",
      "source": [
        "#Final histogram of the Spark Dataframe (aggregate) of the Station Baylis Road, Waterloo, 2014\n",
        "year2014_all_waterloo_agg_graph_df = year2014_all_waterloo_df[[\"avg(Duration)\"]].toPandas()\n",
        "\n",
        "year2014_all_waterloo_agg_graph_df.plot(kind=\"hist\",bins=100, title=\"Final distribution of bike rides in 2014 using aggregate values (Station Baylis Road, Waterloo)\",color='yellow')\n",
        "plt.xlabel(\"Duration (seconds)\")\n",
        "plt.show()"
      ],
      "metadata": {
        "colab": {
          "base_uri": "https://localhost:8080/",
          "height": 472
        },
        "id": "dbY5Xiah4Ins",
        "outputId": "b16e62ac-02fc-4b01-8b66-87728445a274"
      },
      "execution_count": null,
      "outputs": [
        {
          "output_type": "display_data",
          "data": {
            "text/plain": [
              "<Figure size 640x480 with 1 Axes>"
            ],
            "image/png": "[encoded data removed]"
          },
          "metadata": {}
        }
      ]
    },
    {
      "cell_type": "code",
      "source": [
        "#Splitting/Joining the Spark Dataframe per month (stations that are not Station Baylis Road, Waterloo)\n",
        "  #Filtering the Spark Dataframe of the Year 2014 according to the \"StartStation Id\" of the stations that are not Station Baylis Road, Waterloo.\n",
        "  #Grouping according to the \"StartStation Id\" of the stations that are not Station Baylis Road, Waterloo.\n",
        "  #Getting the average Duration per month of the stations that are not Station Baylis Road, Waterloo.\n",
        "year2014_jan_no_waterloo_df = year2014_df0_no_woo.filter((year2014_df0_no_woo['StartDate'] < \"2014-02-01 00:00:00\") & (year2014_df0_no_woo['StartDate'] >= \"2014-01-01 00:00:00\") & (year2014_df0_no_woo[\"StartStationId\"] != \"272\")).groupBy(\"StartStationId\").avg()\n",
        "year2014_feb_no_waterloo_df = year2014_df0_no_woo.filter((year2014_df0_no_woo['StartDate'] < \"2014-03-01 00:00:00\") & (year2014_df0_no_woo['StartDate'] >= \"2014-02-01 00:00:00\") & (year2014_df0_no_woo[\"StartStationId\"] != \"272\")).groupBy(\"StartStationId\").avg()\n",
        "year2014_mar_no_waterloo_df = year2014_df0_no_woo.filter((year2014_df0_no_woo['StartDate'] < \"2014-04-01 00:00:00\") & (year2014_df0_no_woo['StartDate'] >= \"2014-03-01 00:00:00\") & (year2014_df0_no_woo[\"StartStationId\"] != \"272\")).groupBy(\"StartStationId\").avg()\n",
        "year2014_apr_no_waterloo_df = year2014_df0_no_woo.filter((year2014_df0_no_woo['StartDate'] < \"2014-05-01 00:00:00\") & (year2014_df0_no_woo['StartDate'] >= \"2014-04-01 00:00:00\") & (year2014_df0_no_woo[\"StartStationId\"] != \"272\")).groupBy(\"StartStationId\").avg()\n",
        "year2014_may_no_waterloo_df = year2014_df0_no_woo.filter((year2014_df0_no_woo['StartDate'] < \"2014-06-01 00:00:00\") & (year2014_df0_no_woo['StartDate'] >= \"2014-05-01 00:00:00\") & (year2014_df0_no_woo[\"StartStationId\"] != \"272\")).groupBy(\"StartStationId\").avg()\n",
        "year2014_jun_no_waterloo_df = year2014_df0_no_woo.filter((year2014_df0_no_woo['StartDate'] < \"2014-07-01 00:00:00\") & (year2014_df0_no_woo['StartDate'] >= \"2014-06-01 00:00:00\") & (year2014_df0_no_woo[\"StartStationId\"] != \"272\")).groupBy(\"StartStationId\").avg()\n",
        "year2014_jul_no_waterloo_df = year2014_df0_no_woo.filter((year2014_df0_no_woo['StartDate'] < \"2014-08-01 00:00:00\") & (year2014_df0_no_woo['StartDate'] >= \"2014-07-01 00:00:00\") & (year2014_df0_no_woo[\"StartStationId\"] != \"272\")).groupBy(\"StartStationId\").avg()\n",
        "year2014_aug_no_waterloo_df = year2014_df0_no_woo.filter((year2014_df0_no_woo['StartDate'] < \"2014-09-01 00:00:00\") & (year2014_df0_no_woo['StartDate'] >= \"2014-08-01 00:00:00\") & (year2014_df0_no_woo[\"StartStationId\"] != \"272\")).groupBy(\"StartStationId\").avg()\n",
        "year2014_sep_no_waterloo_df = year2014_df0_no_woo.filter((year2014_df0_no_woo['StartDate'] < \"2014-10-01 00:00:00\") & (year2014_df0_no_woo['StartDate'] >= \"2014-09-01 00:00:00\") & (year2014_df0_no_woo[\"StartStationId\"] != \"272\")).groupBy(\"StartStationId\").avg()\n",
        "year2014_oct_no_waterloo_df = year2014_df0_no_woo.filter((year2014_df0_no_woo['StartDate'] < \"2014-11-01 00:00:00\") & (year2014_df0_no_woo['StartDate'] >= \"2014-10-01 00:00:00\") & (year2014_df0_no_woo[\"StartStationId\"] != \"272\")).groupBy(\"StartStationId\").avg()\n",
        "year2014_nov_no_waterloo_df = year2014_df0_no_woo.filter((year2014_df0_no_woo['StartDate'] < \"2014-12-01 00:00:00\") & (year2014_df0_no_woo['StartDate'] >= \"2014-11-01 00:00:00\") & (year2014_df0_no_woo[\"StartStationId\"] != \"272\")).groupBy(\"StartStationId\").avg()\n",
        "year2014_dec_no_waterloo_df = year2014_df0_no_woo.filter((year2014_df0_no_woo['StartDate'] < \"2015-01-01 00:00:00\") & (year2014_df0_no_woo['StartDate'] >= \"2014-12-01 00:00:00\") & (year2014_df0_no_woo[\"StartStationId\"] != \"272\")).groupBy(\"StartStationId\").avg()\n",
        "\n",
        "# Main Spark Dataframe\n",
        "print(\"Main Dataframe:\\n\")\n",
        "year2014_all_no_waterloo_df = (year2014_jan_no_waterloo_df\n",
        "           .union(year2014_feb_no_waterloo_df)\n",
        "           .union(year2014_mar_no_waterloo_df)\n",
        "           .union(year2014_apr_no_waterloo_df)\n",
        "           .union(year2014_may_no_waterloo_df)\n",
        "           .union(year2014_jun_no_waterloo_df)\n",
        "           .union(year2014_jul_no_waterloo_df)\n",
        "           .union(year2014_aug_no_waterloo_df)\n",
        "           .union(year2014_sep_no_waterloo_df)\n",
        "           .union(year2014_oct_no_waterloo_df)\n",
        "           .union(year2014_nov_no_waterloo_df)\n",
        "           .union(year2014_dec_no_waterloo_df)\n",
        "          )\n",
        "year2014_all_no_waterloo_df"
      ],
      "metadata": {
        "colab": {
          "base_uri": "https://localhost:8080/"
        },
        "id": "GJB-SJy3vwnA",
        "outputId": "e2390884-2b31-4d2c-80e9-792e8e053d1c"
      },
      "execution_count": null,
      "outputs": [
        {
          "output_type": "stream",
          "name": "stdout",
          "text": [
            "Main Dataframe:\n",
            "\n"
          ]
        },
        {
          "output_type": "execute_result",
          "data": {
            "text/plain": [
              "DataFrame[StartStationId: int, avg(StartStationId): double, avg(EndStationId): double, avg(Duration): double]"
            ]
          },
          "metadata": {},
          "execution_count": 52
        }
      ]
    },
    {
      "cell_type": "code",
      "source": [
        "#Number of rows in the Spark Dataframe (average) of the Year 2014 of the stations that are not Station Baylis Road, Waterloo.\n",
        "year2014_all_no_waterloo_df_counts = year2014_all_no_waterloo_df.count()\n",
        "print(\"There are \",year2014_all_no_waterloo_df_counts,\" rows in the Spark Dataframe (aggregate) of the Year 2014 of the stations that are not Station Baylis Road, Waterloo (after filtering and grouping)\\n\")"
      ],
      "metadata": {
        "id": "8fJVI3M44aFF",
        "colab": {
          "base_uri": "https://localhost:8080/"
        },
        "outputId": "117d87b3-b7ee-4450-ee4b-cc22afda29c8"
      },
      "execution_count": null,
      "outputs": [
        {
          "output_type": "stream",
          "name": "stdout",
          "text": [
            "There are  8914  rows in the Spark Dataframe of the Year 2014 of the stations that are not Station Baylis Road, Waterloo (after filtering and grouping)\n",
            "\n"
          ]
        }
      ]
    },
    {
      "cell_type": "code",
      "source": [
        "#Final histogram of the Spark Dataframe (aggregate) of the stations that are not Station Baylis Road, Waterloo.\n",
        "year2014_all_no_waterloo_agg_graph_df = year2014_all_no_waterloo_df[[\"avg(Duration)\"]].toPandas()\n",
        "\n",
        "year2014_all_no_waterloo_agg_graph_df.plot(kind=\"hist\",bins=100, title=\"Final distribution of bike rides in 2014 using aggregate values (stations that are not Station Baylis Road, Waterloo)\",color='purple')\n",
        "plt.xlabel(\"Duration (seconds)\")\n",
        "plt.show()"
      ],
      "metadata": {
        "colab": {
          "base_uri": "https://localhost:8080/",
          "height": 472
        },
        "id": "6LpNccfz6kpM",
        "outputId": "45bb1cff-05af-474d-d96f-7fa362af7640"
      },
      "execution_count": null,
      "outputs": [
        {
          "output_type": "display_data",
          "data": {
            "text/plain": [
              "<Figure size 640x480 with 1 Axes>"
            ],
            "image/png": "[encoded data removed]"
          },
          "metadata": {}
        }
      ]
    },
    {
      "cell_type": "code",
      "source": [
        "#Dropping all the columns except the column of \"StartStationId\" and \"Average Duration\" for the Spark dataframes (aggregate):\n",
        "columns_to_drop = ['avg(StartStationId)','avg(EndStationId)']\n",
        "  #Station Baylis Road, Waterloo for the year 2014\n",
        "year2014_all_waterloo_df = year2014_all_waterloo_df.drop(*columns_to_drop)\n",
        "year2014_all_waterloo_df\n",
        "  #Stations that are not Baylis Road, Waterloo for the year 2014\n",
        "year2014_all_no_waterloo_df = year2014_all_no_waterloo_df.drop(*columns_to_drop)\n",
        "year2014_all_no_waterloo_df"
      ],
      "metadata": {
        "colab": {
          "base_uri": "https://localhost:8080/"
        },
        "id": "EwolxLu9049z",
        "outputId": "4102c993-6f27-452c-9060-755698938342"
      },
      "execution_count": null,
      "outputs": [
        {
          "output_type": "execute_result",
          "data": {
            "text/plain": [
              "DataFrame[StartStationId: int, avg(Duration): double]"
            ]
          },
          "metadata": {},
          "execution_count": 53
        }
      ]
    },
    {
      "cell_type": "code",
      "source": [
        "#Transforming Spark dataframes to Pandas dataframes with the aim to exectute statistical Test in Scipy.\n",
        "pandas_df = year2014_all_waterloo_df.toPandas()\n",
        "pandas_df2 = year2014_all_no_waterloo_df.toPandas()"
      ],
      "metadata": {
        "id": "9WyORCj526DB"
      },
      "execution_count": null,
      "outputs": []
    },
    {
      "cell_type": "markdown",
      "source": [
        "# **5. STATISTICAL TEST (HYPOTHESIS TEST)**\n",
        "\n",
        "* **Goal**:  apply an statistical test (hypothesis test) to determine if *“Rides in 2014 starting from Baylis Road, Waterloo station were shorter compared to other stations”*.\n",
        "\n",
        "* **Note**: *SciPy* is the Python library that is going to be used for executing the statistical test (hypothesis test).\n",
        "\n",
        "* **Levene Test (General)**:\n",
        "  * It is a test executed to check an assumption of another other statistical test, in this case the assumption checked is for the \"T-test for the means of two independent samples\".\n",
        "  * Levene Test is useful for comparing whether two or more groups of samples have equal variance.\n",
        "  * The \"T-test for the means of two independent samples\" requires checking the \"homogeneity of variances\" assumption if the groups have clearly different sample sizes. In this case, the sample size of the group of \"Baylis Road, Waterloo station\" is clearly different from the sample size of the \"stations that are not Baylis Road, Waterloo station.\"\n",
        "\n",
        "* **Levene Test (Assumptions)**:\n",
        "  * Independent observations.\n",
        "  * The variables that is going to be tested is metric.\n",
        "\n",
        "* **Levene Test (Hypothesis)**:\n",
        "  * Levene Test's Null hypothesis (H0): states that the group samples to be compared have the same variances or their variances are not significantly different.\n",
        "    * If the p-value > 0.05, the variances are considered not significantly different from each other.\n",
        "  * Levene Test's Alternative hypothesis (H1): states that the samples to be compared have significantly different variances.\n",
        "    * If the p-value < 0.05, the variances are considered significantly different from each other.\n",
        "\n",
        "* **Note**: The \"significance level\" that is going to be used for comparing the \"probability value\" (i.e., the \"p-value\") and determine if there is or not strong evidence to reject the Null Hypothesis is 5% or 0.05"
      ],
      "metadata": {
        "id": "N5NWNZnK3n_i"
      }
    },
    {
      "cell_type": "code",
      "source": [
        "#Transform from Pandas dataframes to Pandas Series\n",
        "group1 = pandas_df.drop(['StartStationId'], axis=1)\n",
        "group11 = group1.squeeze()\n",
        "print(type(group11))\n",
        "\n",
        "group2 = pandas_df2.drop(['StartStationId'], axis=1)\n",
        "group22 = group2.squeeze()\n",
        "print(type(group22))"
      ],
      "metadata": {
        "colab": {
          "base_uri": "https://localhost:8080/"
        },
        "id": "nk-60JtO3gVt",
        "outputId": "dc398eea-bba8-4c43-df74-0650dc9ba9b6"
      },
      "execution_count": null,
      "outputs": [
        {
          "output_type": "stream",
          "name": "stdout",
          "text": [
            "<class 'pandas.core.series.Series'>\n",
            "<class 'pandas.core.series.Series'>\n"
          ]
        }
      ]
    },
    {
      "cell_type": "code",
      "source": [
        "#Levene Test\n",
        "from scipy.stats import levene\n",
        "import scipy.stats as stats\n",
        "\n",
        "#center = \"mean\" because the distributions of the groups of data are symmetric.\n",
        "statistic, p_value = levene(group11, group22, center='mean')\n",
        "\n",
        "# Check the p-value\n",
        "print(\"\\nstatistic, Levene's test:\", statistic)\n",
        "print(\"\\np-value, Levene's test:\", p_value)\n",
        "\n",
        "if p_value < 0.05:\n",
        "    print(\"\\nVariances between the compared groups are significantly different (p_value < 0.05); therefore, the Null Hypothesis can be rejected.\\n\")\n",
        "else:\n",
        "    print(\"\\nVariances between the compared groups are not significantly different (p_value > 0.05); therefore, we fail to reject the Null Hypothesis.\\n\")"
      ],
      "metadata": {
        "colab": {
          "base_uri": "https://localhost:8080/"
        },
        "id": "nT1Qff4i34NP",
        "outputId": "40044de4-175d-4186-ad70-3627e4f965fb"
      },
      "execution_count": null,
      "outputs": [
        {
          "output_type": "stream",
          "name": "stdout",
          "text": [
            "\n",
            "statistic, Levene's test: 9.07578257772296\n",
            "\n",
            "p-value, Levene's test: 0.002597429565560061\n",
            "\n",
            "Variances are significantly different (p_value < 0.05); therefore, the Null Hypothesis can be rejected.\n",
            "\n"
          ]
        }
      ]
    },
    {
      "cell_type": "code",
      "source": [
        "#T-test for the means of two independent samples\n",
        "\n",
        "  #Considering that the previous test (i.e., the Levene Test) the Null Hypothesis was rejected...\n",
        "  #...(i.e., Variances between the compared groups are significantly different) the argument...\n",
        "  #...\"equal_var\" is set to \"False\" in the function \"stats.ttest_ind\"\n",
        "\n",
        "  #Considering that dataset called \"group11\" corresponds to the values of the \"Baylis Road, Waterloo station\",...\n",
        "  #...the dataset (called \"group11\") was the first argument in the function \"stats.ttest_ind\" and....\n",
        "  #...the mean of the distribution of the dataset (called \"group11\") is less than the mean of the....\n",
        "  #...distribution of the dataset (called \"group22\" which corresponds to the \"other stations\")...\n",
        "  #...the \"alternative\" is set to \"less\" (i.e., the \"alternative\" is set to \"less\").\n",
        "\n",
        "from scipy import stats\n",
        "statistict, p_valuet  = stats.ttest_ind(group11, group22, axis=0, equal_var=False, nan_policy='omit',alternative='less')\n",
        "\n",
        "# Check the p-value\n",
        "print(\"\\nstatistic, T-test for the means of two independent samples:\", statistict)\n",
        "print(\"\\np-value, T-test for the means of two independent samples:\", p_valuet)\n",
        "\n",
        "if p_valuet < 0.05:\n",
        "    print(\"\\nMean values are significantly different (p_value < 0.05); therefore, the Null Hypothesis can be rejected.\\n\")\n",
        "    print(\"Consequently, the evidence provided by the data is strongly enough to statistically conclude that\\n\" +\n",
        "    \"the Rides in 2014 starting from Baylis Road, Waterloo station were shorter compared to other stations.\\n\")\n",
        "else:\n",
        "    print(\"\\Mean values are not significantly different (p_value > 0.05); therefore, we fail to reject the Null Hypothesis.\\n\")"
      ],
      "metadata": {
        "colab": {
          "base_uri": "https://localhost:8080/"
        },
        "id": "7wFPlBtc--WT",
        "outputId": "7c04f3bc-59c9-48a1-8032-2a777f706b1e"
      },
      "execution_count": null,
      "outputs": [
        {
          "output_type": "stream",
          "name": "stdout",
          "text": [
            "\n",
            "statistic, T-test for the means of two independent samples: -10.623536402242172\n",
            "\n",
            "p-value, T-test for the means of two independent samples: 1.5987644109689258e-07\n",
            "\n",
            "Mean values are significantly different (p_value < 0.05); therefore, the Null Hypothesis can be rejected.\n",
            "\n",
            "Consequently, the evidence provided by the data is strongly enough to statistically conclude that\n",
            "the Rides in 2014 starting from Baylis Road, Waterloo station were shorter compared to other stations.\n",
            "\n"
          ]
        }
      ]
    }
  ]
}